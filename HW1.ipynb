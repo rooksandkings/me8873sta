{
  "nbformat": 4,
  "nbformat_minor": 0,
  "metadata": {
    "colab": {
      "name": "HW1.ipynb",
      "provenance": [],
      "collapsed_sections": [],
      "include_colab_link": true
    },
    "kernelspec": {
      "name": "python3",
      "display_name": "Python 3"
    },
    "language_info": {
      "name": "python"
    }
  },
  "cells": [
    {
      "cell_type": "markdown",
      "metadata": {
        "id": "view-in-github",
        "colab_type": "text"
      },
      "source": [
        "<a href=\"https://colab.research.google.com/github/rooksandkings/me8873sta/blob/main/HW1.ipynb\" target=\"_parent\"><img src=\"https://colab.research.google.com/assets/colab-badge.svg\" alt=\"Open In Colab\"/></a>"
      ]
    },
    {
      "cell_type": "markdown",
      "source": [
        "**Participants:**\n",
        "\n",
        "*   Margaret Armstrong\n",
        "*   Jarred Fountain\n",
        "*   Bhairav Ramanathan\n",
        "*   Cydney Wong\n",
        "*   Sara Bitarafan\n",
        "*   Kai Ouyang\n",
        "*   Noah Vrazel\n",
        "*   Gabriella Rodriguez"
      ],
      "metadata": {
        "id": "Z7UGRbt7xYiS"
      }
    },
    {
      "cell_type": "markdown",
      "source": [
        "Problem 1:<br>\n",
        "a) <center> \n",
        "    $Z=X_2-X_1$<br><br>\n",
        "    \\begin{align}\n",
        "    var[\\bar{\\mu_z}] &= E\\big[\\bar{\\mu_z}-E[\\bar{\\mu_z}]\\big]^2 \\\\\n",
        "    &= E\\big[\\frac{1}{N}\\Sigma_{i=1}^N Z_i - E[\\frac{1}{N}\\Sigma_{i=1}^N Z_i]\\big]^2\\\\\n",
        "    &= \\frac{1}{N^2}E\\big[\\Sigma_{i=1}^N Z_i - N*E[Z]\\big]^2 \\\\\n",
        "    &= \\frac{1}{N^2}E\\big\\{\\big[Z_1-E[Z]\\big] + \\big[Z_2-E[Z]\\big] + ⋯ \\big \\}^2 \\\\\n",
        "    &= \\frac{1}{N^2}\\big\\{E\\big[Z_1 - E[Z_1]\\big]^2 + E\\big[Z_2 - E[Z_2]\\big]^2 + ⋯\\big\\}\\\\\n",
        "    &=\\frac{1}{N^2}\\big\\{N*var(Z)\\big\\}\\\\\n",
        "    &=\\frac{1}{N}var(Z)\\\\\n",
        "    &= \\frac{1}{N}\\big[var(X_2) - var(X_1)\\big]\n",
        "    \\end{align}<br><br>\n",
        "    \\begin{align}\n",
        "    \\sigma_{\\mu_z} &= \\sqrt{var(\\mu_z)}\\\\\n",
        "    &= \\frac{1}{\\sqrt{N}}\\big[\\sigma_{X_2} - \\sigma_{X_1}\\big]\n",
        "    \\end{align}\n",
        "   </center>"
      ],
      "metadata": {
        "id": "PXu_7HfOu7x_"
      }
    },
    {
      "cell_type": "markdown",
      "source": [
        "<center> \n",
        "    \\begin{align}\n",
        "    var[\\bar{\\mu_z}] &= E\\big[\\bar{\\mu_z}-E[\\bar{\\mu_z}]\\big]^2 \\\\\n",
        "    &= \\bar{\\sigma_z} \\\\\n",
        "    &= \\frac{1}{\\sqrt{N}}\\sigma_z \\\\\n",
        "    &= p(\\bar{z}) \\\\\n",
        "    &= p(\\bar{z}) \\\\\n",
        "    &= \\frac{1}{\\sqrt{2\\pi}\\sigma_\\bar{z}}e^{-\\frac{1}{2}}(\\frac{\\bar{z}-z}{\\sigma_\\bar{z}}) \n",
        "    \\end{align}<br>\n",
        "   </center>"
      ],
      "metadata": {
        "id": "FDV9NdBrurMs"
      }
    },
    {
      "cell_type": "code",
      "source": [
        "import numpy as np\n",
        "import pandas as pd\n",
        "import scipy as sp\n",
        "\n",
        "# excel import requires fancy openpyxl\n",
        "!pip install --upgrade openpyxl"
      ],
      "metadata": {
        "id": "N0UmzEyF9UPk",
        "colab": {
          "base_uri": "https://localhost:8080/"
        },
        "outputId": "02b46a96-bf50-40b2-9500-e0b75729e354"
      },
      "execution_count": 1,
      "outputs": [
        {
          "output_type": "stream",
          "name": "stdout",
          "text": [
            "Requirement already satisfied: openpyxl in /usr/local/lib/python3.7/dist-packages (3.0.9)\n",
            "Requirement already satisfied: et-xmlfile in /usr/local/lib/python3.7/dist-packages (from openpyxl) (1.1.0)\n"
          ]
        }
      ]
    },
    {
      "cell_type": "code",
      "source": [
        "# Import all the XLSX, -O to overwrite if already exists\n",
        "# Remember to import from RAW and not the github link to avoid the <html>\n",
        "\n",
        "!wget -O data1-1.xlsx 'https://github.com/rooksandkings/me8873sta/raw/main/Data%20Locker/Datasets%20for%20Homework%201/data1-1.xlsx'"
      ],
      "metadata": {
        "id": "62IEmgcP9qgQ",
        "colab": {
          "base_uri": "https://localhost:8080/"
        },
        "outputId": "04bc6d0d-7c08-4145-b587-d56fae3e1a75"
      },
      "execution_count": 4,
      "outputs": [
        {
          "output_type": "stream",
          "name": "stdout",
          "text": [
            "--2022-02-13 20:19:45--  https://github.com/rooksandkings/me8873sta/raw/main/Data%20Locker/Datasets%20for%20Homework%201/data1-1.xlsx\n",
            "Resolving github.com (github.com)... 140.82.112.4\n",
            "Connecting to github.com (github.com)|140.82.112.4|:443... connected.\n",
            "HTTP request sent, awaiting response... 302 Found\n",
            "Location: https://raw.githubusercontent.com/rooksandkings/me8873sta/main/Data%20Locker/Datasets%20for%20Homework%201/data1-1.xlsx [following]\n",
            "--2022-02-13 20:19:45--  https://raw.githubusercontent.com/rooksandkings/me8873sta/main/Data%20Locker/Datasets%20for%20Homework%201/data1-1.xlsx\n",
            "Resolving raw.githubusercontent.com (raw.githubusercontent.com)... 185.199.108.133, 185.199.109.133, 185.199.110.133, ...\n",
            "Connecting to raw.githubusercontent.com (raw.githubusercontent.com)|185.199.108.133|:443... connected.\n",
            "HTTP request sent, awaiting response... 200 OK\n",
            "Length: 8846 (8.6K) [application/octet-stream]\n",
            "Saving to: ‘data1-1.xlsx’\n",
            "\n",
            "data1-1.xlsx        100%[===================>]   8.64K  --.-KB/s    in 0s      \n",
            "\n",
            "2022-02-13 20:19:45 (40.5 MB/s) - ‘data1-1.xlsx’ saved [8846/8846]\n",
            "\n"
          ]
        }
      ]
    },
    {
      "cell_type": "code",
      "source": [
        "import scipy.stats\n",
        "from scipy.stats import sem\n",
        "from scipy.stats import ttest_ind\n",
        "# Read data into pandas (a system to manipulate data)\n",
        "x_1, x_2 = pd.read_excel('data1-1.xlsx')['X1'], pd.read_excel('data1-1.xlsx')['X2']\n",
        "\n",
        "# we set np.std(list, ddof=1) because scipy and matlab std uses ddof n-1, whereas numpy.std uses ddof n\n",
        "s_1, s_2 = np.std(x_1, ddof=1), np.std(x_2, ddof=1)\n",
        "n_1, n_2 = len(x_1), len(x_2)\n",
        "mean_data_1_1_diff = np.mean(x_1) - np.mean(x_2)\n",
        "\n",
        "\n",
        "# two sample t-test\n",
        "pooled_variance = ((n_1 - 1) * s_1 ** 2 + (n_2 - 1) * s_2 ** 2)/(n_1 + n_2 - 2)\n",
        "pooled_std = np.sqrt(pooled_variance)\n",
        "same_variance_t_value = mean_data_1_1_diff / (np.sqrt(1 / n_1 + 1 / n_2) * pooled_std)\n",
        "df = n_1 + n_2 - 2\n",
        "# t_value = scipy.stats.t.ppf(q=0.05, df=df)\n",
        "p_value = scipy.stats.t.sf(abs(same_variance_t_value), df=df)\n",
        "print('same variance p_value: ', p_value * 2)\n",
        "# null hypothesis is that tehre is a significant difference between mean of x_1 and x_2, \n",
        "# however, since p value (.02) < .05, we reject the null hypothesis\n",
        "\n",
        "# manual unequal variance calculation:\n",
        "df = (s_1 ** 2 / n_1 + s_2  ** 2 / n_2) ** 2 / (((s_1 ** 2 / n_1) ** 2/(n_1 - 1)) + \n",
        "                                                (s_2 ** 2/n_2) ** 2/(n_2 - 1))\n",
        "manual_t_value = mean_data_1_1_diff / np.sqrt(sem(x_1) ** 2 + sem(x_2) ** 2)\n",
        "p_value = scipy.stats.t.sf(abs(manual_t_value), df=df)\n",
        "print('unequal variance p_value: ', p_value * 2)\n",
        "\n",
        "# Calculate t-test (I think since they are independent samples, but we don't know if they have equal variance, we use Welch's t-test )\n",
        "# https://stackoverflow.com/questions/13404468/t-test-in-pandas\n",
        "# stat library\n",
        "stat_t_value, p_value = ttest_ind(x_1, x_2, equal_var=False)\n",
        "print('stat library p_value: ', p_value)\n",
        "# null hypothesis is that there is a significant difference between mean of x_1 and x_2, \n",
        "# however, since p value (.02) < .05, we reject the null hypothesis\n",
        "\n",
        "# The difference on t_value is due to whether or not we use the same variance or different variance \n",
        "# t-test, which has different degrees of freedom."
      ],
      "metadata": {
        "colab": {
          "base_uri": "https://localhost:8080/"
        },
        "id": "IIu2dHMdJG4x",
        "outputId": "f50777b2-fa84-4008-dc5d-3532d9429ec6"
      },
      "execution_count": 6,
      "outputs": [
        {
          "output_type": "stream",
          "name": "stdout",
          "text": [
            "same variance p_value:  0.026458130075951967\n",
            "unequal variance p_value:  0.028692936523593407\n",
            "stat library p_value:  0.028692936523593376\n"
          ]
        }
      ]
    },
    {
      "cell_type": "markdown",
      "source": [
        "Problem 1:<br>\n",
        "b)"
      ],
      "metadata": {
        "id": "hGCwG1rHqM06"
      }
    },
    {
      "cell_type": "code",
      "source": [
        "import random\n",
        "\n",
        "mean_true = np.mean(x_1 - x_2)\n",
        "merge_lists = x_1.tolist() + x_2.tolist()\n",
        "\n",
        "mean_perm_list = []\n",
        "\n",
        "for i in range (0, 1000):\n",
        "\n",
        "  random.shuffle(merge_lists)\n",
        "  mean_x1_temp = np.mean(merge_lists[:int(len(merge_lists)/2)])\n",
        "  mean_x2_temp = np.mean(merge_lists[int(len(merge_lists)/2):])\n",
        "  mean_temp_diff = mean_x1_temp - mean_x2_temp\n",
        "  mean_perm_list.append(mean_temp_diff)\n",
        "\n",
        "two_tail_mean_mean_perm_list = np.mean([1 if i > np.abs(mean_true) else 0 for i in mean_perm_list]) #two tail\n",
        "print('two tail:', two_tail_mean_mean_perm_list)\n",
        "one_tail_mean_mean_perm_list = np.mean([1 if i > mean_true else 0 for i in mean_perm_list]) # one tail\n",
        "print('one tail:', one_tail_mean_mean_perm_list)\n",
        "\n",
        "# null hypothesis is that there is a significant difference between mean of x_1 and x_2, \n",
        "# however, since p value (.015) < .05, we reject the null hypothesis"
      ],
      "metadata": {
        "id": "zh6L90_CLPHR",
        "colab": {
          "base_uri": "https://localhost:8080/"
        },
        "outputId": "48bd42ab-4508-4994-9a5e-b4c4213f83ea"
      },
      "execution_count": 22,
      "outputs": [
        {
          "output_type": "stream",
          "name": "stdout",
          "text": [
            "two tail: 0.015\n",
            "one tail: 0.986\n"
          ]
        }
      ]
    },
    {
      "cell_type": "markdown",
      "source": [
        "Problem 2:"
      ],
      "metadata": {
        "id": "_dp0vdW61-V-"
      }
    },
    {
      "cell_type": "code",
      "source": [
        "# Read data into pandas (a system to manipulate data)\n",
        "!wget -O data1-2.xlsx 'https://github.com/rooksandkings/me8873sta/raw/main/Data%20Locker/Datasets%20for%20Homework%201/data1-2.xlsx'\n",
        "data_1_2 = pd.read_excel('data1-2.xlsx')"
      ],
      "metadata": {
        "id": "wlFOSARIBcro"
      },
      "execution_count": null,
      "outputs": []
    },
    {
      "cell_type": "code",
      "source": [
        "norm_data_1_2 = data_1_2-data_1_2.mean()\n",
        "print(norm_data_1_2)\n",
        "prod_1, prod_2 = data_1_2['X1'] * data_1_2['Y1'], data_1_2['X2'] * data_1_2['Y2']\n",
        "temp1 = np.sum(prod_1)/np.sum(norm_data_1_2['X1'] * norm_data_1_2['X1'])\n",
        "temp2 = np.sum(prod_2)/np.sum(norm_data_1_2['X2'] * norm_data_1_2['X2'])\n",
        "print(temp1)\n",
        "print(temp2)\n"
      ],
      "metadata": {
        "id": "8Igeo1LcNx2U"
      },
      "execution_count": null,
      "outputs": []
    },
    {
      "cell_type": "markdown",
      "source": [
        "Matlab code can be found below courtesy of Noa"
      ],
      "metadata": {
        "id": "OXEnxbayxvz9"
      }
    },
    {
      "cell_type": "markdown",
      "source": [
        "```\n",
        "data = readcell('data1-2.xlsx');\n",
        "data = data(2:end, :)\n",
        "% ////////////////////////////////////////////////////////////////////////\n",
        "% Organized imported data into their individual vectors for X1, Y1, X2, and\n",
        "% Y2 and then calculated means for each\n",
        "    X1 = cell2mat(data(:,1));\n",
        "        meanX1 = mean(X1);\n",
        "    Y1 = cell2mat(data(:,2));\n",
        "        meanY1 = mean(Y1);\n",
        "    X2 = cell2mat(data(:,3));\n",
        "        meanX2 = mean(X2);\n",
        "    Y2 = cell2mat(data(:,4));\n",
        "        meanY2 = mean(Y2);\n",
        "% ////////////////////////////////////////////////////////////////////////\n",
        "% Implement lecture formulas for solving for B0 and B1 from our data\n",
        "% populations\n",
        "x1sum = 0;\n",
        "y1sum = 0;\n",
        "x2sum = 0;\n",
        "y2sum = 0;\n",
        "x1sum2 = 0;\n",
        "x2sum2 = 0;\n",
        "% Solve all of the summations of x - mean and y - mean for both 1st and 2nd\n",
        "% datasets\n",
        "for i = 1:1:length(X1)\n",
        "        x1sum = x1sum + (X1(i) - meanX1)*(Y1(i) - meanX1);\n",
        "%         y1sum = y1sum + (Y1(i) - meanX1);\n",
        "        x1sum2 = x1sum2 + (X1(i) - meanX1)^2;\n",
        "    \n",
        "        x2sum = x2sum + (X2(i) - meanX2)*(Y2(i) - meanY2);\n",
        "%         y2sum = y2sum + (Y2(i) - meanY1);\n",
        "        x2sum2 = x2sum2 + (X2(i) - meanX2)^2;\n",
        "end\n",
        "% x1sum\n",
        "% x2sum\n",
        "% y1sum\n",
        "% y2sum\n",
        "% x1sum2\n",
        "% x2sum2\n",
        "%Calculate the estimates for B1 for both data sets\n",
        "    B11 = x1sum / x1sum2\n",
        "    B12 = x2sum / x2sum2\n",
        "    \n",
        "% With B1 values we can solve for B2 values \n",
        "    B12 = meanY1 - B11 * meanX1\n",
        "    B22 = meanY2 - B12 * meanX2\n",
        "    \n",
        "    \n",
        "\n",
        "% Found next function (fitlm) on Mathworks website : https://www.mathworks.com/help/stats/fitlm.html#:~:text=mdl%20%3D%20fitlm(%20X%20%2C%20y%20)%20returns%20a%20linear%20regression,to%20the%20data%20matrix%20X%20.\n",
        "% The rest of the coding process for this part was all learned through help ftilm in matlab     \n",
        "    out1 = fitlm(X1,Y1)\n",
        "    out2 = fitlm(X2,Y2)\n",
        "    est1 = out1.Coefficients\n",
        "    est2 = out2.Coefficients\n",
        "    intercept1 = est1{1,1};\n",
        "    intercept2 = est2{2,1};\n",
        "    check1 = ttest(intercept1)\n",
        "    check2 = ttest(intercept2)\n",
        "```\n"
      ],
      "metadata": {
        "id": "7tzNxb_kLIYU"
      }
    },
    {
      "cell_type": "markdown",
      "source": [
        "Matlab Code with plots from Gabriela: \n",
        "\n",
        "clc, clear; \n",
        "\n",
        "%Add data \n",
        "\n",
        "addpath 'Datasets for Homework 1'\n",
        "\n",
        "%Read data and store it into a table\n",
        "\n",
        "T=readtable('data1-2');\n",
        "\n",
        "%Extract each of the variables\n",
        "\n",
        "x1=T.X1; \n",
        "x2=T.X2;\n",
        "y1=T.Y1; \n",
        "y2=T.Y2; \n",
        "\n",
        "N=length(x2); \n",
        "\n",
        "%Visualize the data\n",
        "\n",
        "figure, hold on, plot(x1,y1,'-*'), plot(x2,y2,'-*'), hold off, legend('Y1','Y2'), title('Exercise 2 scatter plot'),ylabel('Y values'), xlabel('X values'), grid minor\n",
        "\n",
        "%%%%%%%%%%%Custom least squares%%%%%%%%%%%\n",
        "\n",
        "[b_1_1,b_0_1]=least_squares_custom(x1,y1,1,'X1 fit');\n",
        "\n",
        "[b_1_2,b_0_2]=least_squares_custom(x2,y2,1,'X2 fit');\n",
        "\n",
        "%%%%%%%%%%Matlab least squares%%%%%%%%%%%\n",
        "c1 = polyfit(x1, y1, 1);\n",
        "yFitted1 = polyval(c1, x1); \n",
        "\n",
        "c2 = polyfit(x2, y2, 1);\n",
        "yFitted2 = polyval(c2, x1); \n",
        "\n",
        "figure, hold on, plot(x1,y1,'*'), plot(yFitted1), legend('y','y_{estimate}')\n",
        "grid minor, title('Matlab least squares for X1, Y1')\n",
        "txt1 = ['y = (' num2str(c1(1)) ')x + (' num2str(c1(2)) ')'];\n",
        "text(5, 0, txt1);\n",
        "hold off\n",
        "\n",
        "\n",
        "figure, hold on, plot(x2,y2,'*'), plot(yFitted1), legend('y','y_{estimate}')\n",
        "grid minor, title('Matlab least squares for X2, Y2')\n",
        "txt2 = ['y = (' num2str(c2(1)) ')x + (' num2str(c2(2)) ')'];\n",
        "text(5, 0, txt2);\n",
        "hold off\n",
        "\n",
        "\n",
        "%%%%%%%%%%Check if significantly different from 0%%%%%%%%%%%%\n",
        "\n",
        "%%%FOR X1: \n",
        "\n",
        "%For B1: \n",
        "\n",
        "\n",
        "std_b1_1=std(y1)/sqrt(sum((x1-mean(x1)).^2));\n",
        "\n",
        "stat_b1_1=normcdf(0,b_1_1,std_b1_1); \n",
        "\n",
        "%For B0: \n",
        "\n",
        "std_b0_1=mean(x1)*std_b1_1; \n",
        "\n",
        "stat_b0_1=normcdf(0,mean(y1)-mean(x1)*b_1_1,std_b1_1*mean(x1)); \n",
        "\n",
        "\n",
        "%For X1,Y1, the slope and intercept are significantly different than 0. \n",
        "\n",
        "%%%FOR X2: \n",
        "\n",
        "std_b1_2=std(y2)/sqrt(sum((x2-mean(x2)).^2));\n",
        "\n",
        "stat_b1_2=normcdf(0,b_1_2,std_b1_2); \n",
        "\n",
        "%For B0: \n",
        "\n",
        "std_b0_2=mean(x2)*std_b1_2; \n",
        "\n",
        "stat_b0_2=normcdf(0,mean(y2)-mean(x2)*b_1_2,std_b1_2*mean(x2)); \n",
        "\n",
        "%%%%%%%%LEAST SQUARES CODING%%%%%%%%%%%\n",
        "\n",
        "function[b_1,b_0]=least_squares_custom(x,y,bool,string)\n",
        "\n",
        "%%%%%%%%%%%%%%%%%%%%%%%Documentation%%%%%%%%%%%%%%%%%\n",
        "\n",
        "%x: independent variable. \n",
        "\n",
        "%y: dependent variable.\n",
        "\n",
        "%bool: boolean value to display plots or not. \n",
        "\n",
        "%String: just for the title\n",
        "\n",
        "%%%%%%%%%%%%%%%%%%%%%%%%%%%%%%%%%%%%%%%%%%%%%%%%%%%%%\n",
        "\n",
        "b_1=sum((x-mean(x)).*(y-mean(y)))/sum((x-mean(x)).^2); \n",
        "\n",
        "b_0=mean(y)-b_1*mean(x); \n",
        "\n",
        "if bool==1\n",
        "\n",
        "    figure\n",
        "    hold on\n",
        "    plot(x,y,'*')\n",
        "    plot(x, x*b_1+b_0)\n",
        "    legend('y','y_{estimate}')\n",
        "    xlabel('X values')\n",
        "    ylabel('Y values')\n",
        "    grid minor, title(['Custom least squares', string])\n",
        "    txt1 = ['y = (' num2str(b_1) ')x + (' num2str(b_0) ')'];\n",
        "    text(5, 0, txt1);\n",
        "    hold off\n",
        "end \n",
        "end "
      ],
      "metadata": {
        "id": "yCLJXR6KTU55"
      }
    },
    {
      "cell_type": "code",
      "source": [
        ""
      ],
      "metadata": {
        "id": "HzLh8lLuTTir"
      },
      "execution_count": null,
      "outputs": []
    },
    {
      "cell_type": "markdown",
      "source": [
        "Problem 3:"
      ],
      "metadata": {
        "id": "U7mUknTRMNGz"
      }
    },
    {
      "cell_type": "code",
      "source": [
        "from numpy.linalg import inv\n",
        "import copy\n",
        "\n",
        "def find_theta(phi_matrix, y_matrix):\n",
        "  # initialize matrix outside of loop\n",
        "  P_inverse = np.zeros((2,2))\n",
        "  for i in range(len(phi_matrix)):\n",
        "    row = phi_matrix[i].reshape(-1, 1)\n",
        "    row_transpose = row.T\n",
        "    P_inverse += row * row_transpose\n",
        "\n",
        "  P = inv(P_inverse)\n",
        "\n",
        "  B = np.zeros((2,1))\n",
        "  for i in range(len(y_matrix)):\n",
        "    B_temp = phi_matrix[i].reshape(-1, 1) * y_matrix[i]\n",
        "    B += B_temp\n",
        "\n",
        "  theta_hat = np.dot(P, B)\n",
        "  theta_1, theta_2 = theta_hat[0], theta_hat[1]\n",
        "  # print(theta_1, theta_2)\n",
        "  # return np.array([theta_1, theta_2]), P\n",
        "  return theta_1, theta_2, P"
      ],
      "metadata": {
        "id": "xJjBQpzoMIAF"
      },
      "execution_count": null,
      "outputs": []
    },
    {
      "cell_type": "code",
      "source": [
        "# First task: Process initial values\n",
        "phi_matrix = np.array([[3, 2], [1, 1], [4, -6], [2, 1]])\n",
        "y_matrix = np.array([6, 1, -3, 4])\n",
        "# print(phi_matrix)\n",
        "# print(y_matrix)\n",
        "# print(np.shape(Pt_1))\n",
        "# print(np.shape(phi_t))\n",
        "\n",
        "theta1, theta2, P = find_theta(phi_matrix, y_matrix)\n",
        "\n",
        "print('theta 1:', theta1, '\\ntheta 2:', theta2)\n",
        "print('p matrix \\n', P)"
      ],
      "metadata": {
        "id": "vu9waFncFbPW"
      },
      "execution_count": null,
      "outputs": []
    },
    {
      "cell_type": "code",
      "source": [
        "# Second task: initialize next set of values and for Batch processing\n",
        "\n",
        "phi_matrix_five = np.append(phi_matrix, [[2,2]], axis=0)\n",
        "y_matrix_five = np.append(y_matrix, [3], axis=0)\n",
        "# print(phi_matrix_five)\n",
        "# print(y_matrix_five)\n",
        "\n",
        "theta1, theta2, P = find_theta(phi_matrix_five, y_matrix_five)\n",
        "\n",
        "print('theta 1:', theta1, '\\ntheta 2:', theta2)\n",
        "print('p matrix \\n', P)"
      ],
      "metadata": {
        "id": "B6IWSKSiEBDF"
      },
      "execution_count": null,
      "outputs": []
    },
    {
      "cell_type": "code",
      "source": [
        "# Third Task: Now Compare with RLS initiated with previous values: \n",
        "\n",
        "theta1, theta2, P = find_theta(phi_matrix, y_matrix)# prev values of theta\n",
        "theta_vector = [theta1, theta2]\n",
        "#Add point\n",
        "fi=np.array([2,2])\n",
        "P= P - (P*theta_vector*np.transpose(theta_vector)*P)/(1+np.transpose(fi)*P*fi)\n",
        "error=3-np.dot(fi.reshape(1,2),theta_vector)\n",
        "theta3=theta_vector+ P@fi.reshape(2,1)*error/(1+np.transpose(fi.reshape(2,1))@P@fi.reshape(2,1))\n",
        "print('theta 3:', theta3) "
      ],
      "metadata": {
        "id": "LWcfM3985dql"
      },
      "execution_count": null,
      "outputs": []
    },
    {
      "cell_type": "markdown",
      "source": [
        ""
      ],
      "metadata": {
        "id": "c9xo2Cb-7ikz"
      }
    },
    {
      "cell_type": "markdown",
      "source": [
        "Q3 - Recursive Least Squares"
      ],
      "metadata": {
        "id": "J0Kbhx7jUTHG"
      }
    },
    {
      "cell_type": "markdown",
      "source": [
        "MATLAB: \n",
        "%% Third Task: \n",
        "%To solve, we program the least squares recursive algorithm:\n",
        "\n",
        "fi=[2;2]; \n",
        "\n",
        "P_t= P - (P*fi*transpose(fi)*P)/(1+transpose(fi)*P*fi);\n",
        "\n",
        "error=3-transpose(fi)*theta;\n",
        "\n",
        "theta3=theta+ P_t*fi*error/(1+transpose(fi)*P*fi); %Double check."
      ],
      "metadata": {
        "id": "__nr3xlokTa1"
      }
    },
    {
      "cell_type": "code",
      "source": [
        "# def function (Pt1, phi(t)): \n",
        "# P(2x2) = Pt1(2x2) * phi(t)(2x1) * phi(t).T(1x2) * Pt1(2x2) / (1 + phi(t).T(1x2) * Pt(2x2) * phi(t)(2x1))\n",
        "# return P?\n",
        "\n",
        "def Pt (Pt_1, phi_t): \n",
        "\n",
        "  print(Pt_1)\n",
        "  print(phi_t)\n",
        "  \n",
        "  # remeber if shape is [2] to convert using row = phi_matrix[i].reshape(-1, 1), that changes it from [2] to [2x1]\n",
        "  print(np.shape(Pt_1))\n",
        "  print(np.shape(phi_t))\n",
        "  \n",
        "  P = Pt_1 -(np.dot(np.dot(np.dot(Pt_1, phi_t), phi_t.T), Pt_1) / (1 + np.dot(np.dot(phi_t.T, Pt_1), phi_t)))\n",
        "  # print(P)\n",
        "  return P"
      ],
      "metadata": {
        "id": "Rn-0gRi2Ofht"
      },
      "execution_count": null,
      "outputs": []
    },
    {
      "cell_type": "code",
      "source": [
        "def Bt (Bt_1, phi_t, y_t): \n",
        "    B = Bt_1 + np.dot(y_t, phi_t)\n",
        "    # print(B)\n",
        "    return B"
      ],
      "metadata": {
        "id": "wz-NDmryO6oK"
      },
      "execution_count": null,
      "outputs": []
    },
    {
      "cell_type": "code",
      "source": [
        "def thetat (theta_1, phi_t, y_t, Pt):\n",
        "    theta = theta_1 -(np.dot(Pt, phi_t)*(y_t-np.dot(phi_t.T,theta_1)))/(1 + np.dot(np.dot(phi_t.T, Pt_1), phi_t))\n",
        "    # print(theta)\n",
        "    return theta"
      ],
      "metadata": {
        "id": "hheduytZn8gb"
      },
      "execution_count": null,
      "outputs": []
    },
    {
      "cell_type": "code",
      "source": [
        "from numpy import identity\n",
        "\n",
        "P_initial = np.identity(2) # Initial condition is an identity matrix but can be any positive definite matrix \n",
        "theta_initial = 1 # Arbitrary start for the initial condition\n",
        "run_number = input('Enter the number of times to run the RLS algorithm: ')\n",
        "for i in range(1,run_number):\n",
        "  if i == 1:\n",
        "    theta_1 = theta_initial\n",
        "    Pt_1 = P_initial \n",
        "  pt = Pt(Pt_1,phi_matrix)\n",
        "  theta_hat = thetat(theta_1,phi_matrix[i],y_matrix[i],pt[i])  # The calls in these functions are not right in terms of indexing but it will be fixed later\n",
        "  bt = Bt(b_matrix,phi_matrix[i],y_matrix[i]) # The calls in these functions are not right in terms of indexing but it will be fixes later"
      ],
      "metadata": {
        "id": "_mwYrXBqrzQo"
      },
      "execution_count": null,
      "outputs": []
    },
    {
      "cell_type": "markdown",
      "source": [
        ""
      ],
      "metadata": {
        "id": "VXGEmYxotgw4"
      }
    },
    {
      "cell_type": "markdown",
      "source": [
        "Problem 6:"
      ],
      "metadata": {
        "id": "_S6glxDUojuu"
      }
    },
    {
      "cell_type": "code",
      "source": [
        "# initial data import\n",
        "\n",
        "!wget -O Theta_1_Slow.txt 'https://raw.githubusercontent.com/rooksandkings/me8873sta/main/Data%20Locker/Datasets%20for%20Homework%201/Data%201-6b_slow/Theta_1_Slow.txt'\n",
        "!wget -O Theta_2_Slow.txt 'https://raw.githubusercontent.com/rooksandkings/me8873sta/main/Data%20Locker/Datasets%20for%20Homework%201/Data%201-6b_slow/Theta_2_Slow.txt'\n",
        "!wget -O Theta_3_Slow.txt 'https://raw.githubusercontent.com/rooksandkings/me8873sta/main/Data%20Locker/Datasets%20for%20Homework%201/Data%201-6b_slow/Theta_3_Slow.txt'\n",
        "\n",
        "!wget -O u_Slow.txt 'https://raw.githubusercontent.com/rooksandkings/me8873sta/main/Data%20Locker/Datasets%20for%20Homework%201/Data%201-6b_slow/u_Slow.txt'\n",
        "!wget -O y_Slow.txt 'https://raw.githubusercontent.com/rooksandkings/me8873sta/main/Data%20Locker/Datasets%20for%20Homework%201/Data%201-6b_slow/y_Slow.txt'\n",
        "\n",
        "!wget -O u_test.txt 'https://raw.githubusercontent.com/rooksandkings/me8873sta/main/Data%20Locker/Datasets%20for%20Homework%201/Data%201-6a_test/u_test.txt'\n",
        "!wget -O y_test.txt 'https://raw.githubusercontent.com/rooksandkings/me8873sta/main/Data%20Locker/Datasets%20for%20Homework%201/Data%201-6a_test/y_test.txt'"
      ],
      "metadata": {
        "id": "Bec57pPIqgPO",
        "colab": {
          "base_uri": "https://localhost:8080/"
        },
        "outputId": "354719d2-29db-4adb-a991-a8ffbfeb0432"
      },
      "execution_count": null,
      "outputs": [
        {
          "output_type": "stream",
          "name": "stdout",
          "text": [
            "--2022-02-11 22:12:56--  https://raw.githubusercontent.com/rooksandkings/me8873sta/main/Data%20Locker/Datasets%20for%20Homework%201/Data%201-6b_slow/Theta_1_Slow.txt\n",
            "Resolving raw.githubusercontent.com (raw.githubusercontent.com)... 185.199.108.133, 185.199.109.133, 185.199.110.133, ...\n",
            "Connecting to raw.githubusercontent.com (raw.githubusercontent.com)|185.199.108.133|:443... connected.\n",
            "HTTP request sent, awaiting response... 200 OK\n",
            "Length: 513 [text/plain]\n",
            "Saving to: ‘Theta_1_Slow.txt’\n",
            "\n",
            "\rTheta_1_Slow.txt      0%[                    ]       0  --.-KB/s               \rTheta_1_Slow.txt    100%[===================>]     513  --.-KB/s    in 0s      \n",
            "\n",
            "2022-02-11 22:12:56 (23.0 MB/s) - ‘Theta_1_Slow.txt’ saved [513/513]\n",
            "\n",
            "--2022-02-11 22:12:56--  https://raw.githubusercontent.com/rooksandkings/me8873sta/main/Data%20Locker/Datasets%20for%20Homework%201/Data%201-6b_slow/Theta_2_Slow.txt\n",
            "Resolving raw.githubusercontent.com (raw.githubusercontent.com)... 185.199.109.133, 185.199.108.133, 185.199.110.133, ...\n",
            "Connecting to raw.githubusercontent.com (raw.githubusercontent.com)|185.199.109.133|:443... connected.\n",
            "HTTP request sent, awaiting response... 200 OK\n",
            "Length: 513 [text/plain]\n",
            "Saving to: ‘Theta_2_Slow.txt’\n",
            "\n",
            "Theta_2_Slow.txt    100%[===================>]     513  --.-KB/s    in 0s      \n",
            "\n",
            "2022-02-11 22:12:56 (33.6 MB/s) - ‘Theta_2_Slow.txt’ saved [513/513]\n",
            "\n",
            "--2022-02-11 22:12:56--  https://raw.githubusercontent.com/rooksandkings/me8873sta/main/Data%20Locker/Datasets%20for%20Homework%201/Data%201-6b_slow/Theta_3_Slow.txt\n",
            "Resolving raw.githubusercontent.com (raw.githubusercontent.com)... 185.199.109.133, 185.199.108.133, 185.199.110.133, ...\n",
            "Connecting to raw.githubusercontent.com (raw.githubusercontent.com)|185.199.109.133|:443... connected.\n",
            "HTTP request sent, awaiting response... 200 OK\n",
            "Length: 513 [text/plain]\n",
            "Saving to: ‘Theta_3_Slow.txt’\n",
            "\n",
            "Theta_3_Slow.txt    100%[===================>]     513  --.-KB/s    in 0s      \n",
            "\n",
            "2022-02-11 22:12:57 (25.7 MB/s) - ‘Theta_3_Slow.txt’ saved [513/513]\n",
            "\n",
            "--2022-02-11 22:12:57--  https://raw.githubusercontent.com/rooksandkings/me8873sta/main/Data%20Locker/Datasets%20for%20Homework%201/Data%201-6b_slow/u_Slow.txt\n",
            "Resolving raw.githubusercontent.com (raw.githubusercontent.com)... 185.199.108.133, 185.199.109.133, 185.199.110.133, ...\n",
            "Connecting to raw.githubusercontent.com (raw.githubusercontent.com)|185.199.108.133|:443... connected.\n",
            "HTTP request sent, awaiting response... 200 OK\n",
            "Length: 544 [text/plain]\n",
            "Saving to: ‘u_Slow.txt’\n",
            "\n",
            "u_Slow.txt          100%[===================>]     544  --.-KB/s    in 0s      \n",
            "\n",
            "2022-02-11 22:12:57 (23.9 MB/s) - ‘u_Slow.txt’ saved [544/544]\n",
            "\n",
            "--2022-02-11 22:12:57--  https://raw.githubusercontent.com/rooksandkings/me8873sta/main/Data%20Locker/Datasets%20for%20Homework%201/Data%201-6b_slow/y_Slow.txt\n",
            "Resolving raw.githubusercontent.com (raw.githubusercontent.com)... 185.199.108.133, 185.199.109.133, 185.199.110.133, ...\n",
            "Connecting to raw.githubusercontent.com (raw.githubusercontent.com)|185.199.108.133|:443... connected.\n",
            "HTTP request sent, awaiting response... 200 OK\n",
            "Length: 510 [text/plain]\n",
            "Saving to: ‘y_Slow.txt’\n",
            "\n",
            "y_Slow.txt          100%[===================>]     510  --.-KB/s    in 0s      \n",
            "\n",
            "2022-02-11 22:12:57 (20.6 MB/s) - ‘y_Slow.txt’ saved [510/510]\n",
            "\n",
            "--2022-02-11 22:12:57--  https://raw.githubusercontent.com/rooksandkings/me8873sta/main/Data%20Locker/Datasets%20for%20Homework%201/Data%201-6a_test/u_test.txt\n",
            "Resolving raw.githubusercontent.com (raw.githubusercontent.com)... 185.199.109.133, 185.199.108.133, 185.199.110.133, ...\n",
            "Connecting to raw.githubusercontent.com (raw.githubusercontent.com)|185.199.109.133|:443... connected.\n",
            "HTTP request sent, awaiting response... 200 OK\n",
            "Length: 544 [text/plain]\n",
            "Saving to: ‘u_test.txt’\n",
            "\n",
            "u_test.txt          100%[===================>]     544  --.-KB/s    in 0s      \n",
            "\n",
            "2022-02-11 22:12:57 (21.1 MB/s) - ‘u_test.txt’ saved [544/544]\n",
            "\n",
            "--2022-02-11 22:12:57--  https://raw.githubusercontent.com/rooksandkings/me8873sta/main/Data%20Locker/Datasets%20for%20Homework%201/Data%201-6a_test/y_test.txt\n",
            "Resolving raw.githubusercontent.com (raw.githubusercontent.com)... 185.199.108.133, 185.199.109.133, 185.199.110.133, ...\n",
            "Connecting to raw.githubusercontent.com (raw.githubusercontent.com)|185.199.108.133|:443... connected.\n",
            "HTTP request sent, awaiting response... 200 OK\n",
            "Length: 510 [text/plain]\n",
            "Saving to: ‘y_test.txt’\n",
            "\n",
            "y_test.txt          100%[===================>]     510  --.-KB/s    in 0s      \n",
            "\n",
            "2022-02-11 22:12:58 (24.4 MB/s) - ‘y_test.txt’ saved [510/510]\n",
            "\n"
          ]
        }
      ]
    },
    {
      "cell_type": "code",
      "source": [
        "# read in data to pandas:\n",
        "from numpy import genfromtxt\n",
        "\n",
        "theta_1_slow = genfromtxt('Theta_1_Slow.txt', delimiter='  ')\n",
        "theta_2_slow = genfromtxt('Theta_2_Slow.txt', delimiter=' ')\n",
        "theta_3_slow = genfromtxt('Theta_3_Slow.txt', delimiter='  ')\n",
        "print(len(theta_1_slow))\n",
        "print(len(theta_2_slow))\n",
        "print(len(theta_3_slow))\n",
        "# print(type(theta_1_slow))\n",
        "# print(theta_2_slow)\n",
        "# print(theta_3_slow)\n",
        "\n",
        "u_slow = (pd.read_csv('u_Slow.txt', header=None)).values.flatten()\n",
        "y_slow = (pd.read_csv('y_Slow.txt', header=None)).values.flatten()\n",
        "print(len(u_slow))\n",
        "print(len(y_slow))\n",
        "# print(type(u_slow))\n",
        "# print(y_slow)\n",
        "\n",
        "u_test = (pd.read_csv('u_test.txt', header=None)).values.flatten()\n",
        "y_test = (pd.read_csv('y_test.txt', header=None)).values.flatten()\n",
        "\n",
        "\n",
        "u_test = np.reshape(u_test,(len(u_test),1))\n",
        "y_test = np.reshape(y_test,(len(y_test),1))\n",
        "\n",
        "print(u_test)\n",
        "# print(y_test)\n",
        "#print(len(u_test))\n",
        "#print(len(y_test))\n",
        "# print(y_test.shape)"
      ],
      "metadata": {
        "colab": {
          "base_uri": "https://localhost:8080/"
        },
        "id": "f7RiKo4tr0JB",
        "outputId": "c31402be-a580-46b9-deeb-9221658006b1"
      },
      "execution_count": null,
      "outputs": [
        {
          "output_type": "stream",
          "name": "stdout",
          "text": [
            "32\n",
            "32\n",
            "32\n",
            "32\n",
            "30\n",
            "[[ 3.3230700e-01]\n",
            " [-4.4654664e-01]\n",
            " [ 5.2412804e-03]\n",
            " [-2.0606901e-01]\n",
            " [ 4.9544606e-02]\n",
            " [ 9.2595683e-01]\n",
            " [ 3.5076617e-01]\n",
            " [-7.9575933e-01]\n",
            " [-6.2224161e-01]\n",
            " [ 1.4298820e+00]\n",
            " [-2.0849055e+00]\n",
            " [ 3.3695413e-02]\n",
            " [-1.5672030e-02]\n",
            " [-5.5429802e-01]\n",
            " [-1.1635976e+00]\n",
            " [ 1.0003199e-01]\n",
            " [ 4.7825945e-01]\n",
            " [ 1.7746693e+00]\n",
            " [-4.7054925e-01]\n",
            " [-9.2527547e-01]\n",
            " [ 1.5466055e-03]\n",
            " [ 6.3729928e-01]\n",
            " [-1.5689483e+00]\n",
            " [ 7.0018121e-01]\n",
            " [ 9.7375463e-01]\n",
            " [-7.0476715e-02]\n",
            " [-3.3680491e-02]\n",
            " [ 3.0246819e-01]\n",
            " [-6.5662485e-01]\n",
            " [-5.2208293e-02]\n",
            " [ 7.7317193e-01]\n",
            " [-3.1985218e-01]]\n"
          ]
        }
      ]
    },
    {
      "cell_type": "code",
      "source": [
        "# alpha = input('Enter value of forgetting factor between 0 and 1: ')\n",
        "# phi_matrix = u_test \n",
        "y_t = y_test\n",
        "\n",
        "alpha = 0.9\n",
        "\n",
        "# third order FIR model \n",
        "m = 3\n",
        "P = [[]]\n",
        "theta = [[]]\n",
        "phi = u_test\n",
        "P[0] = np.identity(m)\n",
        "theta[0] = np.zeros((3,1))\n",
        "\n",
        "for t in range(1, len(y_test)):\n",
        "  P_t_top = P[t-1]*phi[t-1:t-1+m]*phi[t-1:t-1+m].T*P[t-1]\n",
        "  P_t_bottom = alpha + phi[t-1:t-1+m].T*P[t-1]*phi[t-1:t-1+m]\n",
        "  P_t_full = (1/alpha)*(P[t-1] - P_t_top/P_t_bottom)\n",
        "  P.append(P_t_full)\n",
        "  #print(P_t_full)\n",
        "\n",
        "for t in range(1, len(y_test)):\n",
        "  theta_t_top = P[t-1]*phi[t-1:t-1+m]\n",
        "  theta_t_bottom = alpha + phi[t-1:t-1+m].T*P[t-1]*phi[t-1:t-1+m]\n",
        "  theta_t_full = (theta[t-1] + (theta_t_top/theta_t_bottom)*(y_t[t]-phi[t-1:t-1+m].T*theta[t-1]))\n",
        "  theta.append(theta_t_full)\n",
        "  print(theta_t_full)\n",
        "\n",
        "# testing\n",
        "# t = 1\n"
      ],
      "metadata": {
        "id": "bOic4AxYonnK",
        "colab": {
          "base_uri": "https://localhost:8080/"
        },
        "outputId": "c5cea734-5189-4561-9646-c3a0b14998b5"
      },
      "execution_count": null,
      "outputs": [
        {
          "output_type": "stream",
          "name": "stdout",
          "text": [
            "[[-0.78288216  0.          0.        ]\n",
            " [ 0.          0.96687829  0.        ]\n",
            " [ 0.          0.         -0.01386257]]\n",
            "[[-0.9141699   0.          0.        ]\n",
            " [ 0.          0.97042998  0.        ]\n",
            " [ 0.          0.         -0.17647865]]\n",
            "[[-0.89359591  0.          0.        ]\n",
            " [ 0.          0.06212824  0.        ]\n",
            " [ 0.          0.          0.07592768]]\n",
            "[[-0.86432862  0.          0.        ]\n",
            " [ 0.          0.06492108  0.        ]\n",
            " [ 0.          0.          0.06412729]]\n",
            "[[-0.97285004  0.          0.        ]\n",
            " [ 0.         -1.06007867  0.        ]\n",
            " [ 0.          0.         -0.38063098]]\n",
            "[[-0.72534185  0.          0.        ]\n",
            " [ 0.         -1.08133386  0.        ]\n",
            " [ 0.          0.         -0.07408489]]\n",
            "[[ 0.66253859  0.          0.        ]\n",
            " [ 0.         -3.07660786  0.        ]\n",
            " [ 0.          0.         -1.77012198]]\n",
            "[[ 6.31877324  0.          0.        ]\n",
            " [ 0.          1.67594584  0.        ]\n",
            " [ 0.          0.         -6.267131  ]]\n",
            "[[ 2.8280192   0.          0.        ]\n",
            " [ 0.          3.87306731  0.        ]\n",
            " [ 0.          0.         -5.10434469]]\n",
            "[[-0.85074733  0.          0.        ]\n",
            " [ 0.          3.43649005  0.        ]\n",
            " [ 0.          0.         -5.13364176]]\n",
            "[[ 0.29922776  0.          0.        ]\n",
            " [ 0.          3.42359436  0.        ]\n",
            " [ 0.          0.         -5.12703134]]\n",
            "[[ 0.27692557  0.          0.        ]\n",
            " [ 0.          3.43497047  0.        ]\n",
            " [ 0.          0.         -4.43770759]]\n",
            "[[ 0.27409948  0.          0.        ]\n",
            " [ 0.          3.15787118  0.        ]\n",
            " [ 0.          0.         -3.75865117]]\n",
            "[[ 0.377692    0.          0.        ]\n",
            " [ 0.          2.75609825  0.        ]\n",
            " [ 0.          0.         -3.77360627]]\n",
            "[[-1.08622528  0.          0.        ]\n",
            " [ 0.          2.88421598  0.        ]\n",
            " [ 0.          0.         -2.94560441]]\n",
            "[[-1.15652009  0.          0.        ]\n",
            " [ 0.          2.40285681  0.        ]\n",
            " [ 0.          0.         -2.78421964]]\n",
            "[[-0.9761256   0.          0.        ]\n",
            " [ 0.          1.84667428  0.        ]\n",
            " [ 0.          0.         -2.80418564]]\n",
            "[[-0.5146466   0.          0.        ]\n",
            " [ 0.          1.76691293  0.        ]\n",
            " [ 0.          0.         -2.55023596]]\n",
            "[[-0.52467305  0.          0.        ]\n",
            " [ 0.          1.52590142  0.        ]\n",
            " [ 0.          0.         -2.5501456 ]]\n",
            "[[ 0.60795009  0.          0.        ]\n",
            " [ 0.          1.52390338  0.        ]\n",
            " [ 0.          0.         -3.25773616]]\n",
            "[[ 0.60982348  0.          0.        ]\n",
            " [ 0.          2.23871852  0.        ]\n",
            " [ 0.          0.         -3.89018142]]\n",
            "[[ 0.45640199  0.          0.        ]\n",
            " [ 0.          1.82111212  0.        ]\n",
            " [ 0.          0.         -3.7628735 ]]\n",
            "[[ 0.36152051  0.          0.        ]\n",
            " [ 0.          1.69489308  0.        ]\n",
            " [ 0.          0.         -3.35642628]]\n",
            "[[ 0.58754738  0.          0.        ]\n",
            " [ 0.          1.84060064  0.        ]\n",
            " [ 0.          0.         -3.38147757]]\n",
            "[[ 0.68083373  0.          0.        ]\n",
            " [ 0.          1.82649334  0.        ]\n",
            " [ 0.          0.         -3.38775587]]\n",
            "[[ 0.71794544  0.          0.        ]\n",
            " [ 0.          1.84613044  0.        ]\n",
            " [ 0.          0.         -3.53360317]]\n",
            "[[ 0.70802788  0.          0.        ]\n",
            " [ 0.          1.9149975   0.        ]\n",
            " [ 0.          0.         -3.49389873]]\n",
            "[[ 0.79580969  0.          0.        ]\n",
            " [ 0.          1.55667417  0.        ]\n",
            " [ 0.          0.         -3.51157203]]\n",
            "[[ 1.10151366  0.          0.        ]\n",
            " [ 0.          1.58795587  0.        ]\n",
            " [ 0.          0.         -3.59516107]]\n"
          ]
        }
      ]
    },
    {
      "cell_type": "code",
      "source": [
        "alpha = input('Enter value of forgetting factor between 0 and 1: ')\n",
        "u_t = u_test\n",
        "y_t = y_test\n",
        "\n",
        "\n",
        "\n",
        "#phi_matrix = {0:np.zeros((3,1)),1:np.zeros((3,1)),2:np.zeros((3,1)),3:np.zeros((3,1)),4:np.zeros((3,1)),5:np.zeros((3,1)),6:np.zeros((3,1)),7:np.zeros((3,1)),8:np.zeros((3,1)),9:np.zeros((3,1))}\n",
        "\n",
        "#P_t = {0:np.identity(3),1:np.identity(3),2:np.identity(3),3:np.identity(3),4:np.identity(3),5:np.identity(3),6:np.identity(3),7:np.identity(3),8:np.identity(3),9:np.identity(3)}\n",
        "#theta_t = {0:np.zeros((3,1)),1:np.zeros((3,1)),2:np.zeros((3,1)),3:np.zeros((3,1)),4:np.zeros((3,1)),5:np.zeros((3,1)),6:np.zeros((3,1)),7:np.zeros((3,1)),8:np.zeros((3,1)),9:np.zeros((3,1))}\n",
        "\n",
        "#for i in range(1,10):\n",
        "  #P_t[i] = (1/alpha) * (P_t[i-1] - ((P_t[i-1]*phi_matrix[i]*phi_matrix.T[i]*P[i-1])/(alpha + phi_matrix.T[i]*P_t[i-1]*phi_matrix[i])))\n",
        "  #theta_t[i] = theta_t[i-1] + ((P_t[i-1]*phi_matrix[i])/(alpha + phi_matrix.T[i]*P_t[i-1]*phi_matrix[i])) * (y_t - phi_matrix.T[i]*theta_t[i-1])"
      ],
      "metadata": {
        "id": "Fimmr5VN23P5"
      },
      "execution_count": null,
      "outputs": []
    }
  ]
}