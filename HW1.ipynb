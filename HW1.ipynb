{
  "nbformat": 4,
  "nbformat_minor": 0,
  "metadata": {
    "colab": {
      "name": "HW1.ipynb",
      "provenance": [],
      "collapsed_sections": [],
      "include_colab_link": true
    },
    "kernelspec": {
      "name": "python3",
      "display_name": "Python 3"
    },
    "language_info": {
      "name": "python"
    }
  },
  "cells": [
    {
      "cell_type": "markdown",
      "metadata": {
        "id": "view-in-github",
        "colab_type": "text"
      },
      "source": [
        "<a href=\"https://colab.research.google.com/github/rooksandkings/me8873sta/blob/main/HW1.ipynb\" target=\"_parent\"><img src=\"https://colab.research.google.com/assets/colab-badge.svg\" alt=\"Open In Colab\"/></a>"
      ]
    },
    {
      "cell_type": "markdown",
      "source": [
        "Problem 1:<br>\n",
        "a) <center> \n",
        "    $Z=X_2-X_1$<br><br>\n",
        "    \\begin{align}\n",
        "    var[\\bar{\\mu_z}] &= E\\big[\\bar{\\mu_z}-E[\\bar{\\mu_z}]\\big]^2 \\\\\n",
        "    &= E\\big[\\frac{1}{N}\\Sigma_{i=1}^N Z_i - E[\\frac{1}{N}\\Sigma_{i=1}^N Z_i]\\big]^2\\\\\n",
        "    &= \\frac{1}{N^2}E\\big[\\Sigma_{i=1}^N Z_i - N*E[Z]\\big]^2 \\\\\n",
        "    &= \\frac{1}{N^2}E\\big\\{\\big[Z_1-E[Z]\\big] + \\big[Z_2-E[Z]\\big] + ⋯ \\big \\}^2 \\\\\n",
        "    &= \\frac{1}{N^2}\\big\\{E\\big[Z_1 - E[Z_1]\\big]^2 + E\\big[Z_2 - E[Z_2]\\big]^2 + ⋯\\big\\}\\\\\n",
        "    &=\\frac{1}{N^2}\\big\\{N*var(Z)\\big\\}\\\\\n",
        "    &=\\frac{1}{N}var(Z)\\\\\n",
        "    &=\\frac{1}{N}var(X_2-X_1)\\\\\n",
        "    &= \\frac{1}{N}\\big[var(X_2) - var(X_1)\\big]\n",
        "    \\end{align}<br><br>\n",
        "    \\begin{align}\n",
        "    \\sigma_{\\mu_z} &= \\sqrt{var(\\mu_z)}\\\\\n",
        "    &= \\frac{1}{\\sqrt{N}}\\big[\\sigma_{X_2} - \\sigma_{X_1}\\big]\n",
        "    \\end{align}\n",
        "   </center>"
      ],
      "metadata": {
        "id": "PXu_7HfOu7x_"
      }
    },
    {
      "cell_type": "markdown",
      "source": [
        "<center> \n",
        "    \\begin{align}\n",
        "    var[\\bar{\\mu_z}] &= E\\big[\\bar{\\mu_z}-E[\\bar{\\mu_z}]\\big]^2 \\\\\n",
        "    &= \\bar{\\sigma_z} \\\\\n",
        "    &= \\frac{1}{\\sqrt{N}}\\sigma_z \\\\\n",
        "    &= p(\\bar{z}) \\\\\n",
        "    &= p(\\bar{z}) \\\\\n",
        "    &= \\frac{1}{\\sqrt{2\\pi}\\sigma_\\bar{z}}e^{-\\frac{1}{2}}(\\frac{\\bar{z}-z}{\\sigma_\\bar{z}}) \n",
        "    \\end{align}<br>\n",
        "   </center>"
      ],
      "metadata": {
        "id": "FDV9NdBrurMs"
      }
    },
    {
      "cell_type": "code",
      "source": [
        "# from math import sqrt\n",
        "# from sklearn.metrics import mean_squared_error\n",
        "# import matplotlib.pyplot as plt\n",
        "# import csv\n",
        "import pandas as pd\n",
        "import numpy as np"
      ],
      "metadata": {
        "id": "N0UmzEyF9UPk"
      },
      "execution_count": 23,
      "outputs": []
    },
    {
      "cell_type": "code",
      "source": [
        "# Import all the CSV -O to overwrite if already exists\n",
        "# Remember to import from RAW and not the github link to avoid the <html>\n",
        "!wget -O data1-1.xlsx 'https://github.com/rooksandkings/me8873sta/raw/main/Data%20Locker/Datasets%20for%20Homework%201/data1-1.xlsx'\n",
        "!wget -O data1-2.xlsx 'https://github.com/rooksandkings/me8873sta/raw/main/Data%20Locker/Datasets%20for%20Homework%201/data1-2.xlsx'"
      ],
      "metadata": {
        "id": "62IEmgcP9qgQ",
        "colab": {
          "base_uri": "https://localhost:8080/"
        },
        "outputId": "da676a6a-ee49-4c83-884a-e228f6f97b6b"
      },
      "execution_count": 60,
      "outputs": [
        {
          "output_type": "stream",
          "name": "stdout",
          "text": [
            "--2022-01-30 22:39:19--  https://github.com/rooksandkings/me8873sta/raw/main/Data%20Locker/Datasets%20for%20Homework%201/data1-1.xlsx\n",
            "Resolving github.com (github.com)... 140.82.114.3\n",
            "Connecting to github.com (github.com)|140.82.114.3|:443... connected.\n",
            "HTTP request sent, awaiting response... 302 Found\n",
            "Location: https://raw.githubusercontent.com/rooksandkings/me8873sta/main/Data%20Locker/Datasets%20for%20Homework%201/data1-1.xlsx [following]\n",
            "--2022-01-30 22:39:19--  https://raw.githubusercontent.com/rooksandkings/me8873sta/main/Data%20Locker/Datasets%20for%20Homework%201/data1-1.xlsx\n",
            "Resolving raw.githubusercontent.com (raw.githubusercontent.com)... 185.199.111.133, 185.199.109.133, 185.199.108.133, ...\n",
            "Connecting to raw.githubusercontent.com (raw.githubusercontent.com)|185.199.111.133|:443... connected.\n",
            "HTTP request sent, awaiting response... 200 OK\n",
            "Length: 8846 (8.6K) [application/octet-stream]\n",
            "Saving to: ‘data1-1.xlsx’\n",
            "\n",
            "data1-1.xlsx        100%[===================>]   8.64K  --.-KB/s    in 0s      \n",
            "\n",
            "2022-01-30 22:39:19 (66.0 MB/s) - ‘data1-1.xlsx’ saved [8846/8846]\n",
            "\n",
            "--2022-01-30 22:39:20--  https://github.com/rooksandkings/me8873sta/raw/main/Data%20Locker/Datasets%20for%20Homework%201/data1-2.xlsx\n",
            "Resolving github.com (github.com)... 140.82.114.3\n",
            "Connecting to github.com (github.com)|140.82.114.3|:443... connected.\n",
            "HTTP request sent, awaiting response... 302 Found\n",
            "Location: https://raw.githubusercontent.com/rooksandkings/me8873sta/main/Data%20Locker/Datasets%20for%20Homework%201/data1-2.xlsx [following]\n",
            "--2022-01-30 22:39:20--  https://raw.githubusercontent.com/rooksandkings/me8873sta/main/Data%20Locker/Datasets%20for%20Homework%201/data1-2.xlsx\n",
            "Resolving raw.githubusercontent.com (raw.githubusercontent.com)... 185.199.111.133, 185.199.109.133, 185.199.108.133, ...\n",
            "Connecting to raw.githubusercontent.com (raw.githubusercontent.com)|185.199.111.133|:443... connected.\n",
            "HTTP request sent, awaiting response... 200 OK\n",
            "Length: 8990 (8.8K) [application/octet-stream]\n",
            "Saving to: ‘data1-2.xlsx’\n",
            "\n",
            "data1-2.xlsx        100%[===================>]   8.78K  --.-KB/s    in 0s      \n",
            "\n",
            "2022-01-30 22:39:20 (67.5 MB/s) - ‘data1-2.xlsx’ saved [8990/8990]\n",
            "\n"
          ]
        }
      ]
    },
    {
      "cell_type": "code",
      "source": [
        "# Read data into pandas (a system to manipulate data)\n",
        "data_1_1 = pd.read_excel('data1-1.xlsx')\n",
        "data_1_2 = pd.read_excel('data1-2.xlsx')"
      ],
      "metadata": {
        "id": "lvIe0VGYCX-k"
      },
      "execution_count": 61,
      "outputs": []
    },
    {
      "cell_type": "code",
      "source": [
        ""
      ],
      "metadata": {
        "id": "fj8bdwVh_nTI"
      },
      "execution_count": null,
      "outputs": []
    }
  ]
}