{
  "nbformat": 4,
  "nbformat_minor": 0,
  "metadata": {
    "colab": {
      "name": "HW1.ipynb",
      "provenance": [],
      "collapsed_sections": [],
      "include_colab_link": true
    },
    "kernelspec": {
      "name": "python3",
      "display_name": "Python 3"
    },
    "language_info": {
      "name": "python"
    }
  },
  "cells": [
    {
      "cell_type": "markdown",
      "metadata": {
        "id": "view-in-github",
        "colab_type": "text"
      },
      "source": [
        "<a href=\"https://colab.research.google.com/github/rooksandkings/me8873sta/blob/main/HW1.ipynb\" target=\"_parent\"><img src=\"https://colab.research.google.com/assets/colab-badge.svg\" alt=\"Open In Colab\"/></a>"
      ]
    },
    {
      "cell_type": "markdown",
      "source": [
        "**Participants:**\n",
        "\n",
        "*   Margaret Armstrong\n",
        "*   Jarred Fountain\n",
        "*   Bhairav Ramanathan\n",
        "*   Cydney Wong\n",
        "*   Sara Bitarafan\n",
        "*   Kai Ouyang\n",
        "*   Noah Vrazel\n",
        "*   Gabriella Rodriguez"
      ],
      "metadata": {
        "id": "Z7UGRbt7xYiS"
      }
    },
    {
      "cell_type": "markdown",
      "source": [
        "Problem 1:<br>\n",
        "a) <center> \n",
        "    $Z=X_2-X_1$<br><br>\n",
        "    \\begin{align}\n",
        "    var[\\bar{\\mu_z}] &= E\\big[\\bar{\\mu_z}-E[\\bar{\\mu_z}]\\big]^2 \\\\\n",
        "    &= E\\big[\\frac{1}{N}\\Sigma_{i=1}^N Z_i - E[\\frac{1}{N}\\Sigma_{i=1}^N Z_i]\\big]^2\\\\\n",
        "    &= \\frac{1}{N^2}E\\big[\\Sigma_{i=1}^N Z_i - N*E[Z]\\big]^2 \\\\\n",
        "    &= \\frac{1}{N^2}E\\big\\{\\big[Z_1-E[Z]\\big] + \\big[Z_2-E[Z]\\big] + ⋯ \\big \\}^2 \\\\\n",
        "    &= \\frac{1}{N^2}\\big\\{E\\big[Z_1 - E[Z_1]\\big]^2 + E\\big[Z_2 - E[Z_2]\\big]^2 + ⋯\\big\\}\\\\\n",
        "    &=\\frac{1}{N^2}\\big\\{N*var(Z)\\big\\}\\\\\n",
        "    &=\\frac{1}{N}var(Z)\\\\\n",
        "    &= \\frac{1}{N}\\big[var(X_2) - var(X_1)\\big]\n",
        "    \\end{align}<br><br>\n",
        "    \\begin{align}\n",
        "    \\sigma_{\\mu_z} &= \\sqrt{var(\\mu_z)}\\\\\n",
        "    &= \\frac{1}{\\sqrt{N}}\\big[\\sigma_{X_2} - \\sigma_{X_1}\\big]\n",
        "    \\end{align}\n",
        "   </center>"
      ],
      "metadata": {
        "id": "PXu_7HfOu7x_"
      }
    },
    {
      "cell_type": "markdown",
      "source": [
        "<center> \n",
        "    \\begin{align}\n",
        "    var[\\bar{\\mu_z}] &= E\\big[\\bar{\\mu_z}-E[\\bar{\\mu_z}]\\big]^2 \\\\\n",
        "    &= \\bar{\\sigma_z} \\\\\n",
        "    &= \\frac{1}{\\sqrt{N}}\\sigma_z \\\\\n",
        "    &= p(\\bar{z}) \\\\\n",
        "    &= p(\\bar{z}) \\\\\n",
        "    &= \\frac{1}{\\sqrt{2\\pi}\\sigma_\\bar{z}}e^{-\\frac{1}{2}}(\\frac{\\bar{z}-z}{\\sigma_\\bar{z}}) \n",
        "    \\end{align}<br>\n",
        "   </center>"
      ],
      "metadata": {
        "id": "FDV9NdBrurMs"
      }
    },
    {
      "cell_type": "code",
      "source": [
        "import numpy as np\n",
        "import pandas as pd\n",
        "import scipy as sp\n",
        "\n",
        "# excel import requires fancy openpyxl\n",
        "!pip install --upgrade openpyxl"
      ],
      "metadata": {
        "id": "N0UmzEyF9UPk",
        "colab": {
          "base_uri": "https://localhost:8080/"
        },
        "outputId": "94a782c6-59a5-4213-913c-b4b4533000e9"
      },
      "execution_count": null,
      "outputs": [
        {
          "output_type": "stream",
          "name": "stdout",
          "text": [
            "Requirement already satisfied: openpyxl in /usr/local/lib/python3.7/dist-packages (3.0.9)\n",
            "Requirement already satisfied: et-xmlfile in /usr/local/lib/python3.7/dist-packages (from openpyxl) (1.1.0)\n"
          ]
        }
      ]
    },
    {
      "cell_type": "code",
      "source": [
        "# Import all the XLSX, -O to overwrite if already exists\n",
        "# Remember to import from RAW and not the github link to avoid the <html>\n",
        "\n",
        "!wget -O data1-1.xlsx 'https://github.com/rooksandkings/me8873sta/raw/main/Data%20Locker/Datasets%20for%20Homework%201/data1-1.xlsx'"
      ],
      "metadata": {
        "id": "62IEmgcP9qgQ",
        "colab": {
          "base_uri": "https://localhost:8080/"
        },
        "outputId": "eb00c65b-184f-467b-a02e-c681a034d1c5"
      },
      "execution_count": null,
      "outputs": [
        {
          "output_type": "stream",
          "name": "stdout",
          "text": [
            "--2022-02-14 02:41:14--  https://github.com/rooksandkings/me8873sta/raw/main/Data%20Locker/Datasets%20for%20Homework%201/data1-1.xlsx\n",
            "Resolving github.com (github.com)... 140.82.112.4\n",
            "Connecting to github.com (github.com)|140.82.112.4|:443... connected.\n",
            "HTTP request sent, awaiting response... 302 Found\n",
            "Location: https://raw.githubusercontent.com/rooksandkings/me8873sta/main/Data%20Locker/Datasets%20for%20Homework%201/data1-1.xlsx [following]\n",
            "--2022-02-14 02:41:14--  https://raw.githubusercontent.com/rooksandkings/me8873sta/main/Data%20Locker/Datasets%20for%20Homework%201/data1-1.xlsx\n",
            "Resolving raw.githubusercontent.com (raw.githubusercontent.com)... 185.199.108.133, 185.199.109.133, 185.199.110.133, ...\n",
            "Connecting to raw.githubusercontent.com (raw.githubusercontent.com)|185.199.108.133|:443... connected.\n",
            "HTTP request sent, awaiting response... 200 OK\n",
            "Length: 8846 (8.6K) [application/octet-stream]\n",
            "Saving to: ‘data1-1.xlsx’\n",
            "\n",
            "data1-1.xlsx        100%[===================>]   8.64K  --.-KB/s    in 0s      \n",
            "\n",
            "2022-02-14 02:41:15 (76.1 MB/s) - ‘data1-1.xlsx’ saved [8846/8846]\n",
            "\n"
          ]
        }
      ]
    },
    {
      "cell_type": "code",
      "source": [
        "import scipy.stats\n",
        "from scipy.stats import sem\n",
        "from scipy.stats import ttest_ind\n",
        "# Read data into pandas (a system to manipulate data)\n",
        "x_1, x_2 = pd.read_excel('data1-1.xlsx')['X1'], pd.read_excel('data1-1.xlsx')['X2']\n",
        "\n",
        "# we set np.std(list, ddof=1) because scipy and matlab std uses ddof n-1, whereas numpy.std uses ddof n\n",
        "s_1, s_2 = np.std(x_1, ddof=1), np.std(x_2, ddof=1)\n",
        "n_1, n_2 = len(x_1), len(x_2)\n",
        "mean_data_1_1_diff = np.mean(x_1) - np.mean(x_2)\n",
        "\n",
        "# two sample t-test\n",
        "pooled_variance = ((n_1 - 1) * s_1 ** 2 + (n_2 - 1) * s_2 ** 2)/(n_1 + n_2 - 2)\n",
        "pooled_std = np.sqrt(pooled_variance)\n",
        "same_variance_t_value = mean_data_1_1_diff / (np.sqrt(1 / n_1 + 1 / n_2) * pooled_std)\n",
        "df = n_1 + n_2 - 2\n",
        "# t_value = scipy.stats.t.ppf(q=0.05, df=df)\n",
        "p_value = scipy.stats.t.sf(abs(same_variance_t_value), df=df)\n",
        "print('same variance p_value: ', p_value * 2)\n",
        "# null hypothesis is that tehre is a significant difference between mean of x_1 and x_2, \n",
        "# however, since p value (.02) < .05, we reject the null hypothesis\n",
        "\n",
        "# manual unequal variance calculation:\n",
        "df = (s_1 ** 2 / n_1 + s_2  ** 2 / n_2) ** 2 / (((s_1 ** 2 / n_1) ** 2/(n_1 - 1)) + \n",
        "                                                (s_2 ** 2/n_2) ** 2/(n_2 - 1))\n",
        "manual_t_value = mean_data_1_1_diff / np.sqrt(sem(x_1) ** 2 + sem(x_2) ** 2)\n",
        "p_value = scipy.stats.t.sf(abs(manual_t_value), df=df)\n",
        "print('unequal variance p_value: ', p_value * 2)\n",
        "\n",
        "# Calculate t-test (I think since they are independent samples, but we don't know if they have equal variance, we use Welch's t-test )\n",
        "# https://stackoverflow.com/questions/13404468/t-test-in-pandas\n",
        "# stat library\n",
        "stat_t_value, p_value = ttest_ind(x_1, x_2, equal_var=False)\n",
        "print('stat library p_value: ', p_value)\n",
        "# null hypothesis is that there is a significant difference between mean of x_1 and x_2, \n",
        "# however, since p value (.02) < .05, we reject the null hypothesis\n",
        "\n",
        "# The difference on t_value is due to whether or not we use the same variance or different variance \n",
        "# t-test, which has different degrees of freedom."
      ],
      "metadata": {
        "colab": {
          "base_uri": "https://localhost:8080/"
        },
        "id": "IIu2dHMdJG4x",
        "outputId": "9235c3fa-df1e-4f12-873d-35a26885f6f4"
      },
      "execution_count": null,
      "outputs": [
        {
          "output_type": "stream",
          "name": "stdout",
          "text": [
            "same variance p_value:  0.026458130075951967\n",
            "unequal variance p_value:  0.028692936523593407\n",
            "stat library p_value:  0.028692936523593376\n"
          ]
        }
      ]
    },
    {
      "cell_type": "markdown",
      "source": [
        "Problem 1:<br>\n",
        "b)"
      ],
      "metadata": {
        "id": "hGCwG1rHqM06"
      }
    },
    {
      "cell_type": "code",
      "source": [
        "import random\n",
        "\n",
        "mean_true = np.mean(x_1 - x_2)\n",
        "merge_lists = x_1.tolist() + x_2.tolist()\n",
        "\n",
        "mean_perm_list = []\n",
        "\n",
        "for i in range (0, 1000):\n",
        "\n",
        "  random.shuffle(merge_lists)\n",
        "  mean_x1_temp = np.mean(merge_lists[:int(len(merge_lists)/2)])\n",
        "  mean_x2_temp = np.mean(merge_lists[int(len(merge_lists)/2):])\n",
        "  mean_temp_diff = mean_x1_temp - mean_x2_temp\n",
        "  mean_perm_list.append(mean_temp_diff)\n",
        "\n",
        "two_tail_mean_mean_perm_list = np.mean([1 if i > np.abs(mean_true) else 0 for i in mean_perm_list]) #two tail\n",
        "print('two tail:', two_tail_mean_mean_perm_list)\n",
        "one_tail_mean_mean_perm_list = np.mean([1 if i > mean_true else 0 for i in mean_perm_list]) # one tail\n",
        "print('one tail:', one_tail_mean_mean_perm_list)\n",
        "\n",
        "# null hypothesis is that there is a significant difference between mean of x_1 and x_2, \n",
        "# however, since p value (.015) < .05, we reject the null hypothesis"
      ],
      "metadata": {
        "id": "zh6L90_CLPHR",
        "colab": {
          "base_uri": "https://localhost:8080/"
        },
        "outputId": "a2a69418-8dfd-4a83-d76c-06b7025483ab"
      },
      "execution_count": null,
      "outputs": [
        {
          "output_type": "stream",
          "name": "stdout",
          "text": [
            "two tail: 0.015\n",
            "one tail: 0.985\n"
          ]
        }
      ]
    },
    {
      "cell_type": "markdown",
      "source": [
        "Problem 2:"
      ],
      "metadata": {
        "id": "_dp0vdW61-V-"
      }
    },
    {
      "cell_type": "code",
      "source": [
        "# Read data into pandas (a system to manipulate data)\n",
        "!wget -O data1-2.xlsx 'https://github.com/rooksandkings/me8873sta/raw/main/Data%20Locker/Datasets%20for%20Homework%201/data1-2.xlsx'\n",
        "data_1_2 = pd.read_excel('data1-2.xlsx')"
      ],
      "metadata": {
        "id": "wlFOSARIBcro",
        "colab": {
          "base_uri": "https://localhost:8080/"
        },
        "outputId": "39bdb2da-9cf2-401b-a1a0-f0b53c4ea4f4"
      },
      "execution_count": null,
      "outputs": [
        {
          "output_type": "stream",
          "name": "stdout",
          "text": [
            "--2022-02-14 02:41:15--  https://github.com/rooksandkings/me8873sta/raw/main/Data%20Locker/Datasets%20for%20Homework%201/data1-2.xlsx\n",
            "Resolving github.com (github.com)... 140.82.112.4\n",
            "Connecting to github.com (github.com)|140.82.112.4|:443... connected.\n",
            "HTTP request sent, awaiting response... 302 Found\n",
            "Location: https://raw.githubusercontent.com/rooksandkings/me8873sta/main/Data%20Locker/Datasets%20for%20Homework%201/data1-2.xlsx [following]\n",
            "--2022-02-14 02:41:15--  https://raw.githubusercontent.com/rooksandkings/me8873sta/main/Data%20Locker/Datasets%20for%20Homework%201/data1-2.xlsx\n",
            "Resolving raw.githubusercontent.com (raw.githubusercontent.com)... 185.199.111.133, 185.199.108.133, 185.199.109.133, ...\n",
            "Connecting to raw.githubusercontent.com (raw.githubusercontent.com)|185.199.111.133|:443... connected.\n",
            "HTTP request sent, awaiting response... 200 OK\n",
            "Length: 8990 (8.8K) [application/octet-stream]\n",
            "Saving to: ‘data1-2.xlsx’\n",
            "\n",
            "data1-2.xlsx        100%[===================>]   8.78K  --.-KB/s    in 0s      \n",
            "\n",
            "2022-02-14 02:41:15 (68.5 MB/s) - ‘data1-2.xlsx’ saved [8990/8990]\n",
            "\n"
          ]
        }
      ]
    },
    {
      "cell_type": "code",
      "source": [
        "from scipy.stats import norm\n",
        "from scipy import stats\n",
        "from scipy.stats import t\n",
        "from sklearn.linear_model import LinearRegression\n",
        "import statistics\n",
        "\n",
        "x_1, x_2, y_1, y_2 = data_1_2['X1'].values, data_1_2['X2'].values, data_1_2['Y1'].values, data_1_2['Y2'].values\n",
        "alpha = 0.05\n",
        "\n",
        "def lin_reg_stats (x, y, alpha, dataset):\n",
        "  # manual calculation\n",
        "  model = LinearRegression()\n",
        "  model.fit(x.reshape(-1, 1), y)\n",
        "  ddof = len(y) - 2\n",
        "  intercept, slope = model.intercept_, model.coef_\n",
        "  Y = np.sqrt(statistics.variance(y - np.mean(y)))\n",
        "  standard_error = Y / np.sqrt(np.sum((x - np.mean(x)) ** 2))\n",
        "\n",
        "  t_value = slope / standard_error\n",
        "  manual_p_value = t.sf(t_value, ddof) * 2\n",
        "\n",
        "\n",
        "  # using stats library\n",
        "  slope, intercept, r_value, p_value, std_err = stats.linregress(x, y)\n",
        "\n",
        "  print(dataset, 'manual p_value:', manual_p_value[0], 'stat library p_value:', p_value)\n",
        "  if p_value < alpha:\n",
        "    print('p_value:', p_value, '< alpha:', alpha, 'thus we reject the null hypthosis that the slope of the regression line is equal to 0')\n",
        "  else:\n",
        "    print('p_value:', p_value, '> alpha:', alpha, 'thus we accept the null hypthosis that the slope of the regression line is equal to 0')\n",
        "\n",
        "\n",
        "lin_reg_stats(x_1, y_1, alpha, 'data set 1:')\n",
        "lin_reg_stats(x_2, y_2, alpha, 'data set 2:')\n",
        "\n"
      ],
      "metadata": {
        "id": "8Igeo1LcNx2U",
        "colab": {
          "base_uri": "https://localhost:8080/"
        },
        "outputId": "2e39182d-841f-4ad1-b2a2-1529dd0c3e5e"
      },
      "execution_count": null,
      "outputs": [
        {
          "output_type": "stream",
          "name": "stdout",
          "text": [
            "data set 1: manual p_value: 0.37281860719794974 stat library p_value: 0.37588697121029935\n",
            "p_value: 0.37588697121029935 > alpha: 0.05 thus we accept the null hypthosis that the slope of the regression line is equal to 0\n",
            "data set 2: manual p_value: 0.04645226123733489 stat library p_value: 0.007222379025052357\n",
            "p_value: 0.007222379025052357 < alpha: 0.05 thus we reject the null hypthosis that the slope of the regression line is equal to 0\n"
          ]
        }
      ]
    },
    {
      "cell_type": "markdown",
      "source": [
        "Matlab code can be found below courtesy of Noa"
      ],
      "metadata": {
        "id": "OXEnxbayxvz9"
      }
    },
    {
      "cell_type": "markdown",
      "source": [
        "```\n",
        "data = readcell('data1-2.xlsx');\n",
        "data = data(2:end, :)\n",
        "% ////////////////////////////////////////////////////////////////////////\n",
        "% Organized imported data into their individual vectors for X1, Y1, X2, and\n",
        "% Y2 and then calculated means for each\n",
        "    X1 = cell2mat(data(:,1));\n",
        "        meanX1 = mean(X1);\n",
        "    Y1 = cell2mat(data(:,2));\n",
        "        meanY1 = mean(Y1);\n",
        "    X2 = cell2mat(data(:,3));\n",
        "        meanX2 = mean(X2);\n",
        "    Y2 = cell2mat(data(:,4));\n",
        "        meanY2 = mean(Y2);\n",
        "% ////////////////////////////////////////////////////////////////////////\n",
        "% Implement lecture formulas for solving for B0 and B1 from our data\n",
        "% populations\n",
        "x1sum = 0;\n",
        "y1sum = 0;\n",
        "x2sum = 0;\n",
        "y2sum = 0;\n",
        "x1sum2 = 0;\n",
        "x2sum2 = 0;\n",
        "% Solve all of the summations of x - mean and y - mean for both 1st and 2nd\n",
        "% datasets\n",
        "for i = 1:1:length(X1)\n",
        "        x1sum = x1sum + (X1(i) - meanX1)*(Y1(i) - meanX1);\n",
        "%         y1sum = y1sum + (Y1(i) - meanX1);\n",
        "        x1sum2 = x1sum2 + (X1(i) - meanX1)^2;\n",
        "    \n",
        "        x2sum = x2sum + (X2(i) - meanX2)*(Y2(i) - meanY2);\n",
        "%         y2sum = y2sum + (Y2(i) - meanY1);\n",
        "        x2sum2 = x2sum2 + (X2(i) - meanX2)^2;\n",
        "end\n",
        "% x1sum\n",
        "% x2sum\n",
        "% y1sum\n",
        "% y2sum\n",
        "% x1sum2\n",
        "% x2sum2\n",
        "%Calculate the estimates for B1 for both data sets\n",
        "    B11 = x1sum / x1sum2\n",
        "    B12 = x2sum / x2sum2\n",
        "    \n",
        "% With B1 values we can solve for B2 values \n",
        "    B12 = meanY1 - B11 * meanX1\n",
        "    B22 = meanY2 - B12 * meanX2\n",
        "    \n",
        "    \n",
        "\n",
        "% Found next function (fitlm) on Mathworks website : https://www.mathworks.com/help/stats/fitlm.html#:~:text=mdl%20%3D%20fitlm(%20X%20%2C%20y%20)%20returns%20a%20linear%20regression,to%20the%20data%20matrix%20X%20.\n",
        "% The rest of the coding process for this part was all learned through help ftilm in matlab     \n",
        "    out1 = fitlm(X1,Y1)\n",
        "    out2 = fitlm(X2,Y2)\n",
        "    est1 = out1.Coefficients\n",
        "    est2 = out2.Coefficients\n",
        "    intercept1 = est1{1,1};\n",
        "    intercept2 = est2{2,1};\n",
        "    check1 = ttest(intercept1)\n",
        "    check2 = ttest(intercept2)\n",
        "```\n"
      ],
      "metadata": {
        "id": "7tzNxb_kLIYU"
      }
    },
    {
      "cell_type": "markdown",
      "source": [
        "Matlab Code with plots from Gabriela: \n",
        "\n",
        "clc, clear; \n",
        "\n",
        "%Add data \n",
        "\n",
        "addpath 'Datasets for Homework 1'\n",
        "\n",
        "%Read data and store it into a table\n",
        "\n",
        "T=readtable('data1-2');\n",
        "\n",
        "%Extract each of the variables\n",
        "\n",
        "x1=T.X1; \n",
        "x2=T.X2;\n",
        "y1=T.Y1; \n",
        "y2=T.Y2; \n",
        "\n",
        "N=length(x2); \n",
        "\n",
        "%Visualize the data\n",
        "\n",
        "figure, hold on, plot(x1,y1,'-*'), plot(x2,y2,'-*'), hold off, legend('Y1','Y2'), title('Exercise 2 scatter plot'),ylabel('Y values'), xlabel('X values'), grid minor\n",
        "\n",
        "%%%%%%%%%%%Custom least squares%%%%%%%%%%%\n",
        "\n",
        "[b_1_1,b_0_1]=least_squares_custom(x1,y1,1,'X1 fit');\n",
        "\n",
        "[b_1_2,b_0_2]=least_squares_custom(x2,y2,1,'X2 fit');\n",
        "\n",
        "%%%%%%%%%%Matlab least squares%%%%%%%%%%%\n",
        "c1 = polyfit(x1, y1, 1);\n",
        "yFitted1 = polyval(c1, x1); \n",
        "\n",
        "c2 = polyfit(x2, y2, 1);\n",
        "yFitted2 = polyval(c2, x1); \n",
        "\n",
        "figure, hold on, plot(x1,y1,'*'), plot(yFitted1), legend('y','y_{estimate}')\n",
        "grid minor, title('Matlab least squares for X1, Y1')\n",
        "txt1 = ['y = (' num2str(c1(1)) ')x + (' num2str(c1(2)) ')'];\n",
        "text(5, 0, txt1);\n",
        "hold off\n",
        "\n",
        "\n",
        "figure, hold on, plot(x2,y2,'*'), plot(yFitted1), legend('y','y_{estimate}')\n",
        "grid minor, title('Matlab least squares for X2, Y2')\n",
        "txt2 = ['y = (' num2str(c2(1)) ')x + (' num2str(c2(2)) ')'];\n",
        "text(5, 0, txt2);\n",
        "hold off\n",
        "\n",
        "\n",
        "%%%%%%%%%%Check if significantly different from 0%%%%%%%%%%%%\n",
        "\n",
        "%%%FOR X1: \n",
        "\n",
        "%For B1: \n",
        "\n",
        "\n",
        "std_b1_1=std(y1)/sqrt(sum((x1-mean(x1)).^2));\n",
        "\n",
        "stat_b1_1=normcdf(0,b_1_1,std_b1_1); \n",
        "\n",
        "%For B0: \n",
        "\n",
        "std_b0_1=mean(x1)*std_b1_1; \n",
        "\n",
        "stat_b0_1=normcdf(0,mean(y1)-mean(x1)*b_1_1,std_b1_1*mean(x1)); \n",
        "\n",
        "\n",
        "%For X1,Y1, the slope and intercept are significantly different than 0. \n",
        "\n",
        "%%%FOR X2: \n",
        "\n",
        "std_b1_2=std(y2)/sqrt(sum((x2-mean(x2)).^2));\n",
        "\n",
        "stat_b1_2=normcdf(0,b_1_2,std_b1_2); \n",
        "\n",
        "%For B0: \n",
        "\n",
        "std_b0_2=mean(x2)*std_b1_2; \n",
        "\n",
        "stat_b0_2=normcdf(0,mean(y2)-mean(x2)*b_1_2,std_b1_2*mean(x2)); \n",
        "\n",
        "%%%%%%%%LEAST SQUARES CODING%%%%%%%%%%%\n",
        "\n",
        "function[b_1,b_0]=least_squares_custom(x,y,bool,string)\n",
        "\n",
        "%%%%%%%%%%%%%%%%%%%%%%%Documentation%%%%%%%%%%%%%%%%%\n",
        "\n",
        "%x: independent variable. \n",
        "\n",
        "%y: dependent variable.\n",
        "\n",
        "%bool: boolean value to display plots or not. \n",
        "\n",
        "%String: just for the title\n",
        "\n",
        "%%%%%%%%%%%%%%%%%%%%%%%%%%%%%%%%%%%%%%%%%%%%%%%%%%%%%\n",
        "\n",
        "b_1=sum((x-mean(x)).*(y-mean(y)))/sum((x-mean(x)).^2); \n",
        "\n",
        "b_0=mean(y)-b_1*mean(x); \n",
        "\n",
        "if bool==1\n",
        "\n",
        "    figure\n",
        "    hold on\n",
        "    plot(x,y,'*')\n",
        "    plot(x, x*b_1+b_0)\n",
        "    legend('y','y_{estimate}')\n",
        "    xlabel('X values')\n",
        "    ylabel('Y values')\n",
        "    grid minor, title(['Custom least squares', string])\n",
        "    txt1 = ['y = (' num2str(b_1) ')x + (' num2str(b_0) ')'];\n",
        "    text(5, 0, txt1);\n",
        "    hold off\n",
        "end \n",
        "end "
      ],
      "metadata": {
        "id": "yCLJXR6KTU55"
      }
    },
    {
      "cell_type": "code",
      "source": [
        ""
      ],
      "metadata": {
        "id": "HzLh8lLuTTir"
      },
      "execution_count": null,
      "outputs": []
    },
    {
      "cell_type": "markdown",
      "source": [
        "Problem 3:<br>\n",
        "a)"
      ],
      "metadata": {
        "id": "U7mUknTRMNGz"
      }
    },
    {
      "cell_type": "code",
      "source": [
        "from numpy.linalg import inv\n",
        "import copy\n",
        "\n",
        "def find_theta(phi_matrix, y_matrix):\n",
        "  # initialize matrix outside of loop\n",
        "  P_inverse = np.zeros((2,2))\n",
        "  for i in range(len(phi_matrix)):\n",
        "    row = phi_matrix[i].reshape(-1, 1)\n",
        "    row_transpose = row.T\n",
        "    P_inverse += row * row_transpose\n",
        "\n",
        "  P = inv(P_inverse)\n",
        "\n",
        "  B = np.zeros((2,1))\n",
        "  for i in range(len(y_matrix)):\n",
        "    B_temp = phi_matrix[i].reshape(-1, 1) * y_matrix[i]\n",
        "    B += B_temp\n",
        "\n",
        "  theta_hat = np.dot(P, B)\n",
        "  theta_1, theta_2 = theta_hat[0], theta_hat[1]\n",
        "  # print(theta_1, theta_2)\n",
        "  # return np.array([theta_1, theta_2]), P\n",
        "  return theta_1, theta_2, P"
      ],
      "metadata": {
        "id": "xJjBQpzoMIAF"
      },
      "execution_count": null,
      "outputs": []
    },
    {
      "cell_type": "code",
      "source": [
        "# First task: Process initial values\n",
        "phi_matrix = np.array([[3, 2], [1, 1], [4, -6], [2, 1]])\n",
        "y_matrix = np.array([6, 1, -3, 4])\n",
        "# print(phi_matrix)\n",
        "# print(y_matrix)\n",
        "# print(np.shape(Pt_1))\n",
        "# print(np.shape(phi_t))\n",
        "\n",
        "theta1, theta2, P = find_theta(phi_matrix, y_matrix)\n",
        "\n",
        "print('theta 1:', theta1, '\\ntheta 2:', theta2)\n",
        "print('p matrix \\n', P)"
      ],
      "metadata": {
        "id": "vu9waFncFbPW",
        "colab": {
          "base_uri": "https://localhost:8080/"
        },
        "outputId": "823bc58b-8538-44bb-d5ba-64eda8353037"
      },
      "execution_count": null,
      "outputs": [
        {
          "output_type": "stream",
          "name": "stdout",
          "text": [
            "theta 1: [1.11594203] \n",
            "theta 2: [1.23188406]\n",
            "p matrix \n",
            " [[0.04057971 0.01449275]\n",
            " [0.01449275 0.02898551]]\n"
          ]
        }
      ]
    },
    {
      "cell_type": "code",
      "source": [
        "# Second task: initialize next set of values and for Batch processing\n",
        "\n",
        "phi_matrix_five = np.append(phi_matrix, [[2,2]], axis=0)\n",
        "y_matrix_five = np.append(y_matrix, [3], axis=0)\n",
        "# print(phi_matrix_five)\n",
        "# print(y_matrix_five)\n",
        "\n",
        "theta1, theta2, P = find_theta(phi_matrix_five, y_matrix_five)\n",
        "\n",
        "print('theta 1:', theta1, '\\ntheta 2:', theta2)\n",
        "print('p matrix \\n', P)"
      ],
      "metadata": {
        "id": "B6IWSKSiEBDF",
        "colab": {
          "base_uri": "https://localhost:8080/"
        },
        "outputId": "6c5082ff-4f2e-4b9d-cf66-f4c21b547d7c"
      },
      "execution_count": null,
      "outputs": [
        {
          "output_type": "stream",
          "name": "stdout",
          "text": [
            "theta 1: [0.98198198] \n",
            "theta 2: [1.12612613]\n",
            "p matrix \n",
            " [[0.03187803 0.00762301]\n",
            " [0.00762301 0.02356202]]\n"
          ]
        }
      ]
    },
    {
      "cell_type": "code",
      "source": [
        "# Third Task: Now Compare with RLS initiated with previous values: \n",
        "\n",
        "theta1, theta2, P = find_theta(phi_matrix, y_matrix)# prev values of theta\n",
        "theta_vector = [theta1, theta2]\n",
        "\n",
        "#Add point\n",
        "fi = np.array([2, 2])\n",
        "P = P - (P * theta_vector * theta_vector * P)/(1 + np.transpose(fi) * P * fi)\n",
        "error = 3 - fi.reshape(1, 2)@theta_vector\n",
        "theta3 = theta_vector + P@fi.reshape(2, 1) * error/(1 + np.transpose(fi.reshape(2, 1))@P@fi.reshape(2, 1))\n",
        "\n",
        "print('theta 3:', theta3) "
      ],
      "metadata": {
        "id": "LWcfM3985dql",
        "colab": {
          "base_uri": "https://localhost:8080/"
        },
        "outputId": "c706f288-5836-451d-e3c5-3d4b6d1d3f07"
      },
      "execution_count": null,
      "outputs": [
        {
          "output_type": "stream",
          "name": "stdout",
          "text": [
            "theta 3: [[0.98558263]\n",
            " [1.12861428]]\n"
          ]
        }
      ]
    },
    {
      "cell_type": "markdown",
      "source": [
        ""
      ],
      "metadata": {
        "id": "c9xo2Cb-7ikz"
      }
    },
    {
      "cell_type": "markdown",
      "source": [
        "Q3 - Recursive Least Squares"
      ],
      "metadata": {
        "id": "J0Kbhx7jUTHG"
      }
    },
    {
      "cell_type": "markdown",
      "source": [
        "MATLAB: \n",
        "%% Third Task: \n",
        "%To solve, we program the least squares recursive algorithm:\n",
        "\n",
        "fi=[2;2]; \n",
        "\n",
        "P_t= P - (P*fi*transpose(fi)*P)/(1+transpose(fi)*P*fi);\n",
        "\n",
        "error=3-transpose(fi)*theta;\n",
        "\n",
        "theta3=theta+ P_t*fi*error/(1+transpose(fi)*P*fi); %Double check."
      ],
      "metadata": {
        "id": "__nr3xlokTa1"
      }
    },
    {
      "cell_type": "markdown",
      "source": [
        ""
      ],
      "metadata": {
        "id": "VXGEmYxotgw4"
      }
    },
    {
      "cell_type": "markdown",
      "source": [
        "Problem 6:<br>\n",
        "a)"
      ],
      "metadata": {
        "id": "_S6glxDUojuu"
      }
    },
    {
      "cell_type": "code",
      "source": [
        "# initial data import\n",
        "\n",
        "# !wget -O Theta_1_Slow.txt 'https://raw.githubusercontent.com/rooksandkings/me8873sta/main/Data%20Locker/Datasets%20for%20Homework%201/Data%201-6b_slow/Theta_1_Slow.txt'\n",
        "# !wget -O Theta_2_Slow.txt 'https://raw.githubusercontent.com/rooksandkings/me8873sta/main/Data%20Locker/Datasets%20for%20Homework%201/Data%201-6b_slow/Theta_2_Slow.txt'\n",
        "# !wget -O Theta_3_Slow.txt 'https://raw.githubusercontent.com/rooksandkings/me8873sta/main/Data%20Locker/Datasets%20for%20Homework%201/Data%201-6b_slow/Theta_3_Slow.txt'\n",
        "\n",
        "!wget -O u_Slow.txt 'https://raw.githubusercontent.com/rooksandkings/me8873sta/main/Data%20Locker/Datasets%20for%20Homework%201/Data%201-6a/u_Slow.txt'\n",
        "!wget -O y_Slow.txt 'https://raw.githubusercontent.com/rooksandkings/me8873sta/main/Data%20Locker/Datasets%20for%20Homework%201/Data%201-6a/y_Slow.txt'\n",
        "\n",
        "!wget -O u_3.txt 'https://raw.githubusercontent.com/rooksandkings/me8873sta/main/Data%20Locker/Datasets%20for%20Homework%201/Data%201-6b/u_3.txt'\n",
        "!wget -O y_3.txt 'https://raw.githubusercontent.com/rooksandkings/me8873sta/main/Data%20Locker/Datasets%20for%20Homework%201/Data%201-6b/y_3.txt'"
      ],
      "metadata": {
        "id": "Bec57pPIqgPO",
        "colab": {
          "base_uri": "https://localhost:8080/"
        },
        "outputId": "c2705f64-807d-44f5-ef55-11179f717343"
      },
      "execution_count": 233,
      "outputs": [
        {
          "output_type": "stream",
          "name": "stdout",
          "text": [
            "--2022-02-14 03:10:21--  https://raw.githubusercontent.com/rooksandkings/me8873sta/main/Data%20Locker/Datasets%20for%20Homework%201/Data%201-6a/u_Slow.txt\n",
            "Resolving raw.githubusercontent.com (raw.githubusercontent.com)... 185.199.108.133, 185.199.109.133, 185.199.110.133, ...\n",
            "Connecting to raw.githubusercontent.com (raw.githubusercontent.com)|185.199.108.133|:443... connected.\n",
            "HTTP request sent, awaiting response... 200 OK\n",
            "Length: 544 [text/plain]\n",
            "Saving to: ‘u_Slow.txt’\n",
            "\n",
            "\ru_Slow.txt            0%[                    ]       0  --.-KB/s               \ru_Slow.txt          100%[===================>]     544  --.-KB/s    in 0s      \n",
            "\n",
            "2022-02-14 03:10:21 (40.0 MB/s) - ‘u_Slow.txt’ saved [544/544]\n",
            "\n",
            "--2022-02-14 03:10:21--  https://raw.githubusercontent.com/rooksandkings/me8873sta/main/Data%20Locker/Datasets%20for%20Homework%201/Data%201-6a/y_Slow.txt\n",
            "Resolving raw.githubusercontent.com (raw.githubusercontent.com)... 185.199.108.133, 185.199.109.133, 185.199.110.133, ...\n",
            "Connecting to raw.githubusercontent.com (raw.githubusercontent.com)|185.199.108.133|:443... connected.\n",
            "HTTP request sent, awaiting response... 200 OK\n",
            "Length: 510 [text/plain]\n",
            "Saving to: ‘y_Slow.txt’\n",
            "\n",
            "y_Slow.txt          100%[===================>]     510  --.-KB/s    in 0s      \n",
            "\n",
            "2022-02-14 03:10:21 (37.9 MB/s) - ‘y_Slow.txt’ saved [510/510]\n",
            "\n",
            "--2022-02-14 03:10:21--  https://raw.githubusercontent.com/rooksandkings/me8873sta/main/Data%20Locker/Datasets%20for%20Homework%201/Data%201-6b/u_3.txt\n",
            "Resolving raw.githubusercontent.com (raw.githubusercontent.com)... 185.199.108.133, 185.199.109.133, 185.199.110.133, ...\n",
            "Connecting to raw.githubusercontent.com (raw.githubusercontent.com)|185.199.108.133|:443... connected.\n",
            "HTTP request sent, awaiting response... 200 OK\n",
            "Length: 125 [text/plain]\n",
            "Saving to: ‘u_3.txt’\n",
            "\n",
            "u_3.txt             100%[===================>]     125  --.-KB/s    in 0s      \n",
            "\n",
            "2022-02-14 03:10:22 (9.96 MB/s) - ‘u_3.txt’ saved [125/125]\n",
            "\n",
            "--2022-02-14 03:10:22--  https://raw.githubusercontent.com/rooksandkings/me8873sta/main/Data%20Locker/Datasets%20for%20Homework%201/Data%201-6b/y_3.txt\n",
            "Resolving raw.githubusercontent.com (raw.githubusercontent.com)... 185.199.108.133, 185.199.109.133, 185.199.110.133, ...\n",
            "Connecting to raw.githubusercontent.com (raw.githubusercontent.com)|185.199.108.133|:443... connected.\n",
            "HTTP request sent, awaiting response... 200 OK\n",
            "Length: 102 [text/plain]\n",
            "Saving to: ‘y_3.txt’\n",
            "\n",
            "y_3.txt             100%[===================>]     102  --.-KB/s    in 0s      \n",
            "\n",
            "2022-02-14 03:10:22 (6.89 MB/s) - ‘y_3.txt’ saved [102/102]\n",
            "\n"
          ]
        }
      ]
    },
    {
      "cell_type": "code",
      "source": [
        "# read in data to pandas:\n",
        "from numpy import genfromtxt\n",
        "\n",
        "u_slow = (pd.read_csv('u_Slow.txt', header=None)).values.flatten()\n",
        "y_slow = (pd.read_csv('y_Slow.txt', header=None)).values.flatten()\n",
        "\n",
        "u_slow = np.reshape(u_slow, (len(u_slow),1))\n",
        "y_slow = np.reshape(y_slow, (len(y_slow),1))\n",
        "\n",
        "u_3 = (pd.read_csv('u_3.txt', header=None)).values.flatten()\n",
        "y_3 = (pd.read_csv('y_3.txt', header=None)).values.flatten()\n",
        "\n",
        "u_3 = np.reshape(u_3,(len(u_3),1))\n",
        "y_3 = np.reshape(y_3,(len(y_3),1))"
      ],
      "metadata": {
        "id": "f7RiKo4tr0JB"
      },
      "execution_count": 237,
      "outputs": []
    },
    {
      "cell_type": "code",
      "source": [
        "def rls (y_t, phi, alpha, m):\n",
        "  # initialize matricies\n",
        "  P, theta, P_times_phi  = [[]], [[]], [[]]\n",
        "  P[0], theta[0] = np.identity(m), np.zeros((m,1))\n",
        "\n",
        "  for t in range(1, len(y_t)):\n",
        "    phi_t = phi[t-1 : t-1 + m]\n",
        "    P_t_top = P[t-1]@phi_t@phi_t.T@P[t-1]\n",
        "    P_t_bottom = alpha + phi_t.T@P[t-1]@phi_t\n",
        "    P_t_full = 1 / alpha * (P[t-1] - P_t_top / P_t_bottom)\n",
        "    P.append(P_t_full)\n",
        "\n",
        "    theta_t_top = P[t-1]@phi_t\n",
        "    theta_t_bottom = alpha + phi_t.T@P[t-1]@phi_t\n",
        "    theta_t_right = y_t[t-1] - phi_t.T@theta[t-1]\n",
        "    theta_t_full = theta[t-1] + (theta_t_top / theta_t_bottom) * theta_t_right\n",
        "    theta.append(theta_t_full)\n",
        "  \n",
        "  # print(theta)\n",
        "  return P, theta"
      ],
      "metadata": {
        "id": "bOic4AxYonnK"
      },
      "execution_count": 217,
      "outputs": []
    },
    {
      "cell_type": "code",
      "source": [
        "from matplotlib import pyplot as plt\n",
        "plt.style.use('seaborn-whitegrid')\n",
        "\n",
        "alpha = 0.9\n",
        "m = 3 # third order FIR model \n",
        "P, theta = rls(y_slow, u_slow, alpha, m)\n",
        "\n",
        "fig = plt.figure()\n",
        "ax = plt.axes()\n",
        "\n",
        "plt.title(\"Estimated parameters over time 1-6a\")\n",
        "plt.xlabel(\"Time\")\n",
        "plt.ylabel(\"Paramters\");\n",
        "\n",
        "x = np.linspace(m, len(y_slow) + m - 1, len(y_slow))\n",
        "y = np.concatenate(theta, axis=1)\n",
        "ax.plot(x, y.T)"
      ],
      "metadata": {
        "id": "EvCFAJxLF8Q-",
        "colab": {
          "base_uri": "https://localhost:8080/",
          "height": 343
        },
        "outputId": "6028b20d-94a4-4790-f4ac-2845ad25d0f7"
      },
      "execution_count": 218,
      "outputs": [
        {
          "output_type": "execute_result",
          "data": {
            "text/plain": [
              "[<matplotlib.lines.Line2D at 0x7f88f069ea90>,\n",
              " <matplotlib.lines.Line2D at 0x7f88f069ecd0>,\n",
              " <matplotlib.lines.Line2D at 0x7f88f069ee90>]"
            ]
          },
          "metadata": {},
          "execution_count": 218
        },
        {
          "output_type": "display_data",
          "data": {
            "image/png": "[encoded data removed]",
            "text/plain": [
              "<Figure size 432x288 with 1 Axes>"
            ]
          },
          "metadata": {}
        }
      ]
    },
    {
      "cell_type": "markdown",
      "source": [
        "Problem 6:<br>\n",
        "b)"
      ],
      "metadata": {
        "id": "3hVnUpDIL0mU"
      }
    },
    {
      "cell_type": "code",
      "source": [
        "alpha = 0.99 # faster alpha\n",
        "m = 3 # third order FIR model \n",
        "P, theta = rls(y_3, u_3, alpha, m)\n",
        "\n",
        "fig = plt.figure()\n",
        "ax = plt.axes()\n",
        "\n",
        "plt.title(\"Estimated parameters over time 1-6b\")\n",
        "plt.xlabel(\"Time\")\n",
        "plt.ylabel(\"Paramters\");\n",
        "\n",
        "x = np.linspace(m, len(y_3) + m - 1, len(y_3))\n",
        "y = np.concatenate(theta, axis=1)\n",
        "ax.plot(x, y.T)"
      ],
      "metadata": {
        "colab": {
          "base_uri": "https://localhost:8080/",
          "height": 343
        },
        "id": "sygwBHcfL3jj",
        "outputId": "63e23b7d-2446-4395-cca6-c0836f8f5f96"
      },
      "execution_count": 238,
      "outputs": [
        {
          "output_type": "execute_result",
          "data": {
            "text/plain": [
              "[<matplotlib.lines.Line2D at 0x7f88f036c090>,\n",
              " <matplotlib.lines.Line2D at 0x7f88f036c2d0>,\n",
              " <matplotlib.lines.Line2D at 0x7f88f036c490>]"
            ]
          },
          "metadata": {},
          "execution_count": 238
        },
        {
          "output_type": "display_data",
          "data": {
            "image/png": "[encoded data removed]",
            "text/plain": [
              "<Figure size 432x288 with 1 Axes>"
            ]
          },
          "metadata": {}
        }
      ]
    }
  ]
}