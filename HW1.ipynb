{
  "nbformat": 4,
  "nbformat_minor": 0,
  "metadata": {
    "colab": {
      "name": "HW1.ipynb",
      "provenance": [],
      "collapsed_sections": [],
      "include_colab_link": true
    },
    "kernelspec": {
      "name": "python3",
      "display_name": "Python 3"
    },
    "language_info": {
      "name": "python"
    }
  },
  "cells": [
    {
      "cell_type": "markdown",
      "metadata": {
        "id": "view-in-github",
        "colab_type": "text"
      },
      "source": [
        "<a href=\"https://colab.research.google.com/github/rooksandkings/me8873sta/blob/main/HW1.ipynb\" target=\"_parent\"><img src=\"https://colab.research.google.com/assets/colab-badge.svg\" alt=\"Open In Colab\"/></a>"
      ]
    },
    {
      "cell_type": "markdown",
      "source": [
        "Problem 1:<br>\n",
        "a) <center> \n",
        "    $Z=X_2-X_1$<br><br>\n",
        "    \\begin{align}\n",
        "    var[\\bar{\\mu_z}] &= E\\big[\\bar{\\mu_z}-E[\\bar{\\mu_z}]\\big]^2 \\\\\n",
        "    &= E\\big[\\frac{1}{N}\\Sigma_{i=1}^N Z_i - E[\\frac{1}{N}\\Sigma_{i=1}^N Z_i]\\big]^2\\\\\n",
        "    &= \\frac{1}{N^2}E\\big[\\Sigma_{i=1}^N Z_i - N*E[Z]\\big]^2 \\\\\n",
        "    &= \\frac{1}{N^2}E\\big\\{\\big[Z_1-E[Z]\\big] + \\big[Z_2-E[Z]\\big] + ⋯ \\big \\}^2 \\\\\n",
        "    &= \\frac{1}{N^2}\\big\\{E\\big[Z_1 - E[Z_1]\\big]^2 + E\\big[Z_2 - E[Z_2]\\big]^2 + ⋯\\big\\}\\\\\n",
        "    &=\\frac{1}{N^2}\\big\\{N*var(Z)\\big\\}\\\\\n",
        "    &=\\frac{1}{N}var(Z)\\\\\n",
        "    &=\\frac{1}{N}var(X_2-X_1)\\\\\n",
        "    &= \\frac{1}{N}\\big[var(X_2) - var(X_1)\\big]\n",
        "    \\end{align}<br><br>\n",
        "    \\begin{align}\n",
        "    \\sigma_{\\mu_z} &= \\sqrt{var(\\mu_z)}\\\\\n",
        "    &= \\frac{1}{\\sqrt{N}}\\big[\\sigma_{X_2} - \\sigma_{X_1}\\big]\n",
        "    \\end{align}\n",
        "   </center>"
      ],
      "metadata": {
        "id": "PXu_7HfOu7x_"
      }
    },
    {
      "cell_type": "markdown",
      "source": [
        "<center> \n",
        "    \\begin{align}\n",
        "    var[\\bar{\\mu_z}] &= E\\big[\\bar{\\mu_z}-E[\\bar{\\mu_z}]\\big]^2 \\\\\n",
        "    &= \\bar{\\sigma_z} \\\\\n",
        "    &= \\frac{1}{\\sqrt{N}}\\sigma_z \\\\\n",
        "    &= p(\\bar{z}) \\\\\n",
        "    &= p(\\bar{z}) \\\\\n",
        "    &= \\frac{1}{\\sqrt{2\\pi}\\sigma_\\bar{z}}e^{-\\frac{1}{2}}(\\frac{\\bar{z}-z}{\\sigma_\\bar{z}}) \n",
        "    \\end{align}<br>\n",
        "   </center>"
      ],
      "metadata": {
        "id": "FDV9NdBrurMs"
      }
    },
    {
      "cell_type": "code",
      "source": [
        "from math import sqrt\n",
        "from sklearn.metrics import mean_squared_error\n",
        "import pandas as pd\n",
        "import matplotlib.pyplot as plt"
      ],
      "metadata": {
        "id": "N0UmzEyF9UPk"
      },
      "execution_count": null,
      "outputs": []
    }
  ]
}