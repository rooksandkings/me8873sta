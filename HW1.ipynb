{
  "nbformat": 4,
  "nbformat_minor": 0,
  "metadata": {
    "colab": {
      "name": "HW1.ipynb",
      "provenance": [],
      "collapsed_sections": [],
      "include_colab_link": true
    },
    "kernelspec": {
      "name": "python3",
      "display_name": "Python 3"
    },
    "language_info": {
      "name": "python"
    }
  },
  "cells": [
    {
      "cell_type": "markdown",
      "metadata": {
        "id": "view-in-github",
        "colab_type": "text"
      },
      "source": [
        "<a href=\"https://colab.research.google.com/github/rooksandkings/me8873sta/blob/main/HW1.ipynb\" target=\"_parent\"><img src=\"https://colab.research.google.com/assets/colab-badge.svg\" alt=\"Open In Colab\"/></a>"
      ]
    },
    {
      "cell_type": "markdown",
      "source": [
        "Problem 1:<br>\n",
        "a) <center> \n",
        "    $Z=X_2-X_1$<br><br>\n",
        "    \\begin{align}\n",
        "    var[\\bar{\\mu_z}] &= E\\big[\\bar{\\mu_z}-E[\\bar{\\mu_z}]\\big]^2 \\\\\n",
        "    &= E\\big[\\frac{1}{N}\\Sigma_{i=1}^N Z_i - E[\\frac{1}{N}\\Sigma_{i=1}^N Z_i]\\big]^2\\\\\n",
        "    &= \\frac{1}{N^2}E\\big[\\Sigma_{i=1}^N Z_i - N*E[Z]\\big]^2 \\\\\n",
        "    &= \\frac{1}{N^2}E\\big\\{\\big[Z_1-E[Z]\\big] + \\big[Z_2-E[Z]\\big] + ⋯ \\big \\}^2 \\\\\n",
        "    &= \\frac{1}{N^2}\\big\\{E\\big[Z_1 - E[Z_1]\\big]^2 + E\\big[Z_2 - E[Z_2]\\big]^2 + ⋯\\big\\}\\\\\n",
        "    &=\\frac{1}{N^2}\\big\\{N*var(Z)\\big\\}\\\\\n",
        "    &=\\frac{1}{N}var(Z)\\\\\n",
        "    &=\\frac{1}{N}var(X_2-X_1)\\\\\n",
        "    &= \\frac{1}{N}\\big[var(X_2) - var(X_1)\\big]\n",
        "    \\end{align}<br><br>\n",
        "    \\begin{align}\n",
        "    \\sigma_{\\mu_z} &= \\sqrt{var(\\mu_z)}\\\\\n",
        "    &= \\frac{1}{\\sqrt{N}}\\big[\\sigma_{X_2} - \\sigma_{X_1}\\big]\n",
        "    \\end{align}\n",
        "   </center>"
      ],
      "metadata": {
        "id": "PXu_7HfOu7x_"
      }
    },
    {
      "cell_type": "markdown",
      "source": [
        "<center> \n",
        "    \\begin{align}\n",
        "    var[\\bar{\\mu_z}] &= E\\big[\\bar{\\mu_z}-E[\\bar{\\mu_z}]\\big]^2 \\\\\n",
        "    &= \\bar{\\sigma_z} \\\\\n",
        "    &= \\frac{1}{\\sqrt{N}}\\sigma_z \\\\\n",
        "    &= p(\\bar{z}) \\\\\n",
        "    &= p(\\bar{z}) \\\\\n",
        "    &= \\frac{1}{\\sqrt{2\\pi}\\sigma_\\bar{z}}e^{-\\frac{1}{2}}(\\frac{\\bar{z}-z}{\\sigma_\\bar{z}}) \n",
        "    \\end{align}<br>\n",
        "   </center>"
      ],
      "metadata": {
        "id": "FDV9NdBrurMs"
      }
    },
    {
      "cell_type": "code",
      "source": [
        "# from math import sqrt\n",
        "# from sklearn.metrics import mean_squared_error\n",
        "# import matplotlib.pyplot as plt\n",
        "# import csv\n",
        "import pandas as pd\n",
        "import numpy as np"
      ],
      "metadata": {
        "id": "N0UmzEyF9UPk"
      },
      "execution_count": 23,
      "outputs": []
    },
    {
      "cell_type": "code",
      "source": [
        "# Import all the CSV -O to overwrite if already exists\n",
        "# Remember to import from RAW and not the github link to avoid the <html>\n",
        "!wget -O data1-1.xlsx 'https://github.com/rooksandkings/me8873sta/raw/main/Data%20Locker/Datasets%20for%20Homework%201/data1-1.xlsx'\n",
        "# !wget -O data1-2.xlsx 'https://github.com/rooksandkings/me8873sta/raw/main/Data%20Locker/Datasets%20for%20Homework%201/data1-2.xlsx'"
      ],
      "metadata": {
        "id": "62IEmgcP9qgQ",
        "colab": {
          "base_uri": "https://localhost:8080/"
        },
        "outputId": "ccfce1b5-cb22-49d9-8c20-fab4b7cefb43"
      },
      "execution_count": 63,
      "outputs": [
        {
          "output_type": "stream",
          "name": "stdout",
          "text": [
            "--2022-01-30 22:43:45--  https://github.com/rooksandkings/me8873sta/raw/main/Data%20Locker/Datasets%20for%20Homework%201/data1-1.xlsx\n",
            "Resolving github.com (github.com)... 140.82.114.4\n",
            "Connecting to github.com (github.com)|140.82.114.4|:443... connected.\n",
            "HTTP request sent, awaiting response... 302 Found\n",
            "Location: https://raw.githubusercontent.com/rooksandkings/me8873sta/main/Data%20Locker/Datasets%20for%20Homework%201/data1-1.xlsx [following]\n",
            "--2022-01-30 22:43:45--  https://raw.githubusercontent.com/rooksandkings/me8873sta/main/Data%20Locker/Datasets%20for%20Homework%201/data1-1.xlsx\n",
            "Resolving raw.githubusercontent.com (raw.githubusercontent.com)... 185.199.109.133, 185.199.108.133, 185.199.110.133, ...\n",
            "Connecting to raw.githubusercontent.com (raw.githubusercontent.com)|185.199.109.133|:443... connected.\n",
            "HTTP request sent, awaiting response... 200 OK\n",
            "Length: 8846 (8.6K) [application/octet-stream]\n",
            "Saving to: ‘data1-1.xlsx’\n",
            "\n",
            "data1-1.xlsx        100%[===================>]   8.64K  --.-KB/s    in 0s      \n",
            "\n",
            "2022-01-30 22:43:45 (69.0 MB/s) - ‘data1-1.xlsx’ saved [8846/8846]\n",
            "\n",
            "          X1         X2\n",
            "0   4.686864   9.211241\n",
            "1  -1.585870   9.330614\n",
            "2   6.505989  10.629239\n",
            "3   0.964869   2.125175\n",
            "4   1.807601   2.937827\n",
            "5  -4.711653  11.312360\n",
            "6  14.373209  11.270575\n",
            "7   3.944807   9.647950\n",
            "8   7.512365  10.399723\n",
            "9  -2.597030   4.649083\n"
          ]
        }
      ]
    },
    {
      "cell_type": "code",
      "source": [
        "# Read data into pandas (a system to manipulate data)\n",
        "data_1_1 = pd.read_excel('data1-1.xlsx')\n",
        "\n",
        "# uncomment to view data\n",
        "# print(data_1_1)\n",
        "\n",
        "# Calculate difference of means\n",
        "data_1_1_diff = data_1_1['X2'] - data_1_1['X1']\n",
        "\n",
        "# Calculate standard error\n",
        "data_1_1_diff.sem()"
      ],
      "metadata": {
        "colab": {
          "base_uri": "https://localhost:8080/"
        },
        "id": "lvIe0VGYCX-k",
        "outputId": "e6e53d36-b7ad-4930-ac5d-536459f500d6"
      },
      "execution_count": 73,
      "outputs": [
        {
          "output_type": "execute_result",
          "data": {
            "text/plain": [
              "1.709011380199044"
            ]
          },
          "metadata": {},
          "execution_count": 73
        }
      ]
    },
    {
      "cell_type": "code",
      "source": [
        "# Calculate t-test (I think since they are independent samples, but we don't know if they have equal variance, we use Welch's t-test )\n",
        "# https://stackoverflow.com/questions/13404468/t-test-in-pandas\n",
        "from scipy.stats import ttest_ind\n",
        "from scipy.stats import ttest_1samp\n",
        "\n",
        "# ttest_ind(data_1_1['X1'], data_1_1['X2'], equal_var=False)\n",
        "ttest_ind(data_1_1['X1'], data_1_1['X2'], equal_var=False)\n",
        "# ttest_1samp(data_1_1['X1'], data_1_1['X2'])"
      ],
      "metadata": {
        "colab": {
          "base_uri": "https://localhost:8080/"
        },
        "id": "fj8bdwVh_nTI",
        "outputId": "0e4e4728-a70d-400f-aa93-a4e105e52eb9"
      },
      "execution_count": 90,
      "outputs": [
        {
          "output_type": "execute_result",
          "data": {
            "text/plain": [
              "Ttest_indResult(statistic=-2.4174996272238225, pvalue=0.028692936523593376)"
            ]
          },
          "metadata": {},
          "execution_count": 90
        }
      ]
    },
    {
      "cell_type": "code",
      "source": [
        ""
      ],
      "metadata": {
        "id": "zh6L90_CLPHR"
      },
      "execution_count": null,
      "outputs": []
    }
  ]
}